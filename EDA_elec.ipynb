{
 "cells": [
  {
   "cell_type": "code",
   "execution_count": 12,
   "metadata": {},
   "outputs": [],
   "source": [
    "import pandas as pd\n",
    "import numpy as np\n",
    "import requests, zipfile\n",
    "import io\n",
    "import gzip\n",
    "import simplejson\n",
    "%matplotlib inline\n",
    "import matplotlib.pyplot as plt"
   ]
  },
  {
   "cell_type": "markdown",
   "metadata": {},
   "source": [
    "## Read in Electronics data from AWS"
   ]
  },
  {
   "cell_type": "code",
   "execution_count": 93,
   "metadata": {},
   "outputs": [],
   "source": [
    "#links of all reviews\n",
    "link_url_str =  '''https://s3.amazonaws.com/amazon-reviews-pds/tsv/amazon_reviews_us_Wireless_v1_00.tsv.gz\n",
    "https://s3.amazonaws.com/amazon-reviews-pds/tsv/amazon_reviews_us_Watches_v1_00.tsv.gz\n",
    "https://s3.amazonaws.com/amazon-reviews-pds/tsv/amazon_reviews_us_Video_Games_v1_00.tsv.gz\n",
    "https://s3.amazonaws.com/amazon-reviews-pds/tsv/amazon_reviews_us_Video_DVD_v1_00.tsv.gz\n",
    "https://s3.amazonaws.com/amazon-reviews-pds/tsv/amazon_reviews_us_Video_v1_00.tsv.gz\n",
    "https://s3.amazonaws.com/amazon-reviews-pds/tsv/amazon_reviews_us_Toys_v1_00.tsv.gz\n",
    "https://s3.amazonaws.com/amazon-reviews-pds/tsv/amazon_reviews_us_Tools_v1_00.tsv.gz\n",
    "https://s3.amazonaws.com/amazon-reviews-pds/tsv/amazon_reviews_us_Sports_v1_00.tsv.gz\n",
    "https://s3.amazonaws.com/amazon-reviews-pds/tsv/amazon_reviews_us_Software_v1_00.tsv.gz\n",
    "https://s3.amazonaws.com/amazon-reviews-pds/tsv/amazon_reviews_us_Shoes_v1_00.tsv.gz\n",
    "https://s3.amazonaws.com/amazon-reviews-pds/tsv/amazon_reviews_us_Pet_Products_v1_00.tsv.gz\n",
    "https://s3.amazonaws.com/amazon-reviews-pds/tsv/amazon_reviews_us_Personal_Care_Appliances_v1_00.tsv.gz\n",
    "https://s3.amazonaws.com/amazon-reviews-pds/tsv/amazon_reviews_us_PC_v1_00.tsv.gz\n",
    "https://s3.amazonaws.com/amazon-reviews-pds/tsv/amazon_reviews_us_Outdoors_v1_00.tsv.gz\n",
    "https://s3.amazonaws.com/amazon-reviews-pds/tsv/amazon_reviews_us_Office_Products_v1_00.tsv.gz\n",
    "https://s3.amazonaws.com/amazon-reviews-pds/tsv/amazon_reviews_us_Musical_Instruments_v1_00.tsv.gz\n",
    "https://s3.amazonaws.com/amazon-reviews-pds/tsv/amazon_reviews_us_Music_v1_00.tsv.gz\n",
    "https://s3.amazonaws.com/amazon-reviews-pds/tsv/amazon_reviews_us_Mobile_Electronics_v1_00.tsv.gz\n",
    "https://s3.amazonaws.com/amazon-reviews-pds/tsv/amazon_reviews_us_Mobile_Apps_v1_00.tsv.gz\n",
    "https://s3.amazonaws.com/amazon-reviews-pds/tsv/amazon_reviews_us_Major_Appliances_v1_00.tsv.gz\n",
    "https://s3.amazonaws.com/amazon-reviews-pds/tsv/amazon_reviews_us_Luggage_v1_00.tsv.gz\n",
    "https://s3.amazonaws.com/amazon-reviews-pds/tsv/amazon_reviews_us_Lawn_and_Garden_v1_00.tsv.gz\n",
    "https://s3.amazonaws.com/amazon-reviews-pds/tsv/amazon_reviews_us_Kitchen_v1_00.tsv.gz\n",
    "https://s3.amazonaws.com/amazon-reviews-pds/tsv/amazon_reviews_us_Jewelry_v1_00.tsv.gz\n",
    "https://s3.amazonaws.com/amazon-reviews-pds/tsv/amazon_reviews_us_Home_Improvement_v1_00.tsv.gz\n",
    "https://s3.amazonaws.com/amazon-reviews-pds/tsv/amazon_reviews_us_Home_Entertainment_v1_00.tsv.gz\n",
    "https://s3.amazonaws.com/amazon-reviews-pds/tsv/amazon_reviews_us_Home_v1_00.tsv.gz\n",
    "https://s3.amazonaws.com/amazon-reviews-pds/tsv/amazon_reviews_us_Health_Personal_Care_v1_00.tsv.gz\n",
    "https://s3.amazonaws.com/amazon-reviews-pds/tsv/amazon_reviews_us_Grocery_v1_00.tsv.gz\n",
    "https://s3.amazonaws.com/amazon-reviews-pds/tsv/amazon_reviews_us_Gift_Card_v1_00.tsv.gz\n",
    "https://s3.amazonaws.com/amazon-reviews-pds/tsv/amazon_reviews_us_Furniture_v1_00.tsv.gz\n",
    "https://s3.amazonaws.com/amazon-reviews-pds/tsv/amazon_reviews_us_Electronics_v1_00.tsv.gz\n",
    "https://s3.amazonaws.com/amazon-reviews-pds/tsv/amazon_reviews_us_Digital_Video_Games_v1_00.tsv.gz\n",
    "https://s3.amazonaws.com/amazon-reviews-pds/tsv/amazon_reviews_us_Digital_Video_Download_v1_00.tsv.gz\n",
    "https://s3.amazonaws.com/amazon-reviews-pds/tsv/amazon_reviews_us_Digital_Software_v1_00.tsv.gz\n",
    "https://s3.amazonaws.com/amazon-reviews-pds/tsv/amazon_reviews_us_Digital_Music_Purchase_v1_00.tsv.gz\n",
    "https://s3.amazonaws.com/amazon-reviews-pds/tsv/amazon_reviews_us_Digital_Ebook_Purchase_v1_01.tsv.gz\n",
    "https://s3.amazonaws.com/amazon-reviews-pds/tsv/amazon_reviews_us_Digital_Ebook_Purchase_v1_00.tsv.gz\n",
    "https://s3.amazonaws.com/amazon-reviews-pds/tsv/amazon_reviews_us_Camera_v1_00.tsv.gz\n",
    "https://s3.amazonaws.com/amazon-reviews-pds/tsv/amazon_reviews_us_Books_v1_02.tsv.gz\n",
    "https://s3.amazonaws.com/amazon-reviews-pds/tsv/amazon_reviews_us_Books_v1_01.tsv.gz\n",
    "https://s3.amazonaws.com/amazon-reviews-pds/tsv/amazon_reviews_us_Books_v1_00.tsv.gz\n",
    "https://s3.amazonaws.com/amazon-reviews-pds/tsv/amazon_reviews_us_Beauty_v1_00.tsv.gz\n",
    "https://s3.amazonaws.com/amazon-reviews-pds/tsv/amazon_reviews_us_Baby_v1_00.tsv.gz\n",
    "https://s3.amazonaws.com/amazon-reviews-pds/tsv/amazon_reviews_us_Automotive_v1_00.tsv.gz\n",
    "https://s3.amazonaws.com/amazon-reviews-pds/tsv/amazon_reviews_us_Apparel_v1_00.tsv.gz\n",
    "'''"
   ]
  },
  {
   "cell_type": "code",
   "execution_count": 44,
   "metadata": {},
   "outputs": [
    {
     "data": {
      "text/plain": [
       "'https://s3.amazonaws.com/amazon-reviews-pds/tsv/amazon_reviews_us_Watches_v1_00.tsv.gz'"
      ]
     },
     "execution_count": 44,
     "metadata": {},
     "output_type": "execute_result"
    }
   ],
   "source": [
    "urls = list()\n",
    "urls = link_url_str.split('\\n')\n",
    "urls_trimmed = urls[1]\n",
    "urls_trimmed"
   ]
  },
  {
   "cell_type": "code",
   "execution_count": 8,
   "metadata": {},
   "outputs": [
    {
     "name": "stderr",
     "output_type": "stream",
     "text": [
      "b'Skipping line 9076: expected 15 fields, saw 22\\nSkipping line 19256: expected 15 fields, saw 22\\nSkipping line 24313: expected 15 fields, saw 22\\nSkipping line 47211: expected 15 fields, saw 22\\nSkipping line 54295: expected 15 fields, saw 22\\nSkipping line 56641: expected 15 fields, saw 22\\nSkipping line 63067: expected 15 fields, saw 22\\n'\n",
      "b'Skipping line 93796: expected 15 fields, saw 22\\n'\n",
      "b'Skipping line 132806: expected 15 fields, saw 22\\nSkipping line 164631: expected 15 fields, saw 22\\nSkipping line 167019: expected 15 fields, saw 22\\nSkipping line 167212: expected 15 fields, saw 22\\n'\n",
      "b'Skipping line 198103: expected 15 fields, saw 22\\nSkipping line 199191: expected 15 fields, saw 22\\nSkipping line 202841: expected 15 fields, saw 22\\nSkipping line 218228: expected 15 fields, saw 22\\nSkipping line 235900: expected 15 fields, saw 22\\n'\n",
      "b'Skipping line 277761: expected 15 fields, saw 22\\nSkipping line 304582: expected 15 fields, saw 22\\nSkipping line 312029: expected 15 fields, saw 22\\n'\n",
      "b'Skipping line 343692: expected 15 fields, saw 22\\nSkipping line 352291: expected 15 fields, saw 22\\nSkipping line 363414: expected 15 fields, saw 22\\nSkipping line 378087: expected 15 fields, saw 22\\nSkipping line 378720: expected 15 fields, saw 22\\nSkipping line 378760: expected 15 fields, saw 22\\nSkipping line 379336: expected 15 fields, saw 22\\n'\n",
      "b'Skipping line 402682: expected 15 fields, saw 22\\n'\n",
      "b'Skipping line 466560: expected 15 fields, saw 22\\nSkipping line 486823: expected 15 fields, saw 22\\nSkipping line 489036: expected 15 fields, saw 22\\nSkipping line 496148: expected 15 fields, saw 22\\nSkipping line 522330: expected 15 fields, saw 22\\n'\n",
      "b'Skipping line 552961: expected 15 fields, saw 22\\nSkipping line 577388: expected 15 fields, saw 22\\nSkipping line 582182: expected 15 fields, saw 22\\n'\n",
      "b'Skipping line 590653: expected 15 fields, saw 22\\nSkipping line 608846: expected 15 fields, saw 22\\nSkipping line 615442: expected 15 fields, saw 22\\nSkipping line 645607: expected 15 fields, saw 22\\nSkipping line 654323: expected 15 fields, saw 22\\n'\n",
      "b'Skipping line 714935: expected 15 fields, saw 22\\n'\n",
      "b'Skipping line 749608: expected 15 fields, saw 22\\nSkipping line 753868: expected 15 fields, saw 22\\nSkipping line 762504: expected 15 fields, saw 22\\nSkipping line 771706: expected 15 fields, saw 22\\nSkipping line 773376: expected 15 fields, saw 22\\n'\n",
      "b'Skipping line 792407: expected 15 fields, saw 22\\nSkipping line 793933: expected 15 fields, saw 22\\n'\n"
     ]
    },
    {
     "data": {
      "text/html": [
       "<div>\n",
       "<style scoped>\n",
       "    .dataframe tbody tr th:only-of-type {\n",
       "        vertical-align: middle;\n",
       "    }\n",
       "\n",
       "    .dataframe tbody tr th {\n",
       "        vertical-align: top;\n",
       "    }\n",
       "\n",
       "    .dataframe thead th {\n",
       "        text-align: right;\n",
       "    }\n",
       "</style>\n",
       "<table border=\"1\" class=\"dataframe\">\n",
       "  <thead>\n",
       "    <tr style=\"text-align: right;\">\n",
       "      <th></th>\n",
       "      <th>marketplace</th>\n",
       "      <th>customer_id</th>\n",
       "      <th>review_id</th>\n",
       "      <th>product_id</th>\n",
       "      <th>product_parent</th>\n",
       "      <th>product_title</th>\n",
       "      <th>product_category</th>\n",
       "      <th>star_rating</th>\n",
       "      <th>helpful_votes</th>\n",
       "      <th>total_votes</th>\n",
       "      <th>vine</th>\n",
       "      <th>verified_purchase</th>\n",
       "      <th>review_headline</th>\n",
       "      <th>review_body</th>\n",
       "      <th>review_date</th>\n",
       "    </tr>\n",
       "  </thead>\n",
       "  <tbody>\n",
       "    <tr>\n",
       "      <th>0</th>\n",
       "      <td>US</td>\n",
       "      <td>41409413</td>\n",
       "      <td>R2MTG1GCZLR2DK</td>\n",
       "      <td>B00428R89M</td>\n",
       "      <td>112201306</td>\n",
       "      <td>yoomall 5M Antenna WIFI RP-SMA Female to Male ...</td>\n",
       "      <td>Electronics</td>\n",
       "      <td>5</td>\n",
       "      <td>0</td>\n",
       "      <td>0</td>\n",
       "      <td>N</td>\n",
       "      <td>Y</td>\n",
       "      <td>Five Stars</td>\n",
       "      <td>As described.</td>\n",
       "      <td>2015-08-31</td>\n",
       "    </tr>\n",
       "    <tr>\n",
       "      <th>1</th>\n",
       "      <td>US</td>\n",
       "      <td>49668221</td>\n",
       "      <td>R2HBOEM8LE9928</td>\n",
       "      <td>B000068O48</td>\n",
       "      <td>734576678</td>\n",
       "      <td>Hosa GPM-103 3.5mm TRS to 1/4\" TRS Adaptor</td>\n",
       "      <td>Electronics</td>\n",
       "      <td>5</td>\n",
       "      <td>0</td>\n",
       "      <td>0</td>\n",
       "      <td>N</td>\n",
       "      <td>Y</td>\n",
       "      <td>It works as advertising.</td>\n",
       "      <td>It works as advertising.</td>\n",
       "      <td>2015-08-31</td>\n",
       "    </tr>\n",
       "    <tr>\n",
       "      <th>2</th>\n",
       "      <td>US</td>\n",
       "      <td>12338275</td>\n",
       "      <td>R1P4RW1R9FDPEE</td>\n",
       "      <td>B000GGKOG8</td>\n",
       "      <td>614448099</td>\n",
       "      <td>Channel Master Titan 2 Antenna Preamplifier</td>\n",
       "      <td>Electronics</td>\n",
       "      <td>5</td>\n",
       "      <td>1</td>\n",
       "      <td>1</td>\n",
       "      <td>N</td>\n",
       "      <td>Y</td>\n",
       "      <td>Five Stars</td>\n",
       "      <td>Works pissa</td>\n",
       "      <td>2015-08-31</td>\n",
       "    </tr>\n",
       "    <tr>\n",
       "      <th>3</th>\n",
       "      <td>US</td>\n",
       "      <td>38487968</td>\n",
       "      <td>R1EBPM82ENI67M</td>\n",
       "      <td>B000NU4OTA</td>\n",
       "      <td>72265257</td>\n",
       "      <td>LIMTECH Wall charger + USB Hotsync &amp; Charging ...</td>\n",
       "      <td>Electronics</td>\n",
       "      <td>1</td>\n",
       "      <td>0</td>\n",
       "      <td>0</td>\n",
       "      <td>N</td>\n",
       "      <td>Y</td>\n",
       "      <td>One Star</td>\n",
       "      <td>Did not work at all.</td>\n",
       "      <td>2015-08-31</td>\n",
       "    </tr>\n",
       "    <tr>\n",
       "      <th>4</th>\n",
       "      <td>US</td>\n",
       "      <td>23732619</td>\n",
       "      <td>R372S58V6D11AT</td>\n",
       "      <td>B00JOQIO6S</td>\n",
       "      <td>308169188</td>\n",
       "      <td>Skullcandy Air Raid Portable Bluetooth Speaker</td>\n",
       "      <td>Electronics</td>\n",
       "      <td>5</td>\n",
       "      <td>1</td>\n",
       "      <td>1</td>\n",
       "      <td>N</td>\n",
       "      <td>Y</td>\n",
       "      <td>Overall pleased with the item</td>\n",
       "      <td>Works well. Bass is somewhat lacking but is pr...</td>\n",
       "      <td>2015-08-31</td>\n",
       "    </tr>\n",
       "  </tbody>\n",
       "</table>\n",
       "</div>"
      ],
      "text/plain": [
       "  marketplace  customer_id       review_id  product_id  product_parent  \\\n",
       "0          US     41409413  R2MTG1GCZLR2DK  B00428R89M       112201306   \n",
       "1          US     49668221  R2HBOEM8LE9928  B000068O48       734576678   \n",
       "2          US     12338275  R1P4RW1R9FDPEE  B000GGKOG8       614448099   \n",
       "3          US     38487968  R1EBPM82ENI67M  B000NU4OTA        72265257   \n",
       "4          US     23732619  R372S58V6D11AT  B00JOQIO6S       308169188   \n",
       "\n",
       "                                       product_title product_category  \\\n",
       "0  yoomall 5M Antenna WIFI RP-SMA Female to Male ...      Electronics   \n",
       "1         Hosa GPM-103 3.5mm TRS to 1/4\" TRS Adaptor      Electronics   \n",
       "2        Channel Master Titan 2 Antenna Preamplifier      Electronics   \n",
       "3  LIMTECH Wall charger + USB Hotsync & Charging ...      Electronics   \n",
       "4     Skullcandy Air Raid Portable Bluetooth Speaker      Electronics   \n",
       "\n",
       "   star_rating  helpful_votes  total_votes vine verified_purchase  \\\n",
       "0            5              0            0    N                 Y   \n",
       "1            5              0            0    N                 Y   \n",
       "2            5              1            1    N                 Y   \n",
       "3            1              0            0    N                 Y   \n",
       "4            5              1            1    N                 Y   \n",
       "\n",
       "                 review_headline  \\\n",
       "0                     Five Stars   \n",
       "1       It works as advertising.   \n",
       "2                     Five Stars   \n",
       "3                       One Star   \n",
       "4  Overall pleased with the item   \n",
       "\n",
       "                                         review_body review_date  \n",
       "0                                      As described.  2015-08-31  \n",
       "1                           It works as advertising.  2015-08-31  \n",
       "2                                        Works pissa  2015-08-31  \n",
       "3                               Did not work at all.  2015-08-31  \n",
       "4  Works well. Bass is somewhat lacking but is pr...  2015-08-31  "
      ]
     },
     "execution_count": 8,
     "metadata": {},
     "output_type": "execute_result"
    }
   ],
   "source": [
    "#only reading in electronics reviews\n",
    "url = 'https://s3.amazonaws.com/amazon-reviews-pds/tsv/amazon_reviews_us_Electronics_v1_00.tsv.gz'\n",
    "e_data = pd.read_table(url, sep='\\t', nrows=809815, error_bad_lines=False)\n",
    "e_data.head()\n"
   ]
  },
  {
   "cell_type": "markdown",
   "metadata": {},
   "source": [
    "# Verified vs Unverified purchases"
   ]
  },
  {
   "cell_type": "code",
   "execution_count": 202,
   "metadata": {},
   "outputs": [
    {
     "data": {
      "text/plain": [
       "Text(0,0.5,'Reviews')"
      ]
     },
     "execution_count": 202,
     "metadata": {},
     "output_type": "execute_result"
    },
    {
     "data": {
      "image/png": "[encoded data removed]",
      "text/plain": [
       "<matplotlib.figure.Figure at 0x12ab309b0>"
      ]
     },
     "metadata": {},
     "output_type": "display_data"
    }
   ],
   "source": [
    "#insights\n",
    "#Verified vs non verified purchases\n",
    "e_data.groupby('verified_purchase')['product_title'].count()\n",
    "verification_status = e_data.groupby('verified_purchase')['product_title']\n",
    "verification_status.size().plot(kind='bar')\n",
    "plt.title('Verified Purchase (Y/N)')\n",
    "plt.xlabel('Y/N')\n",
    "plt.ylabel('Reviews')\n",
    "\n",
    "#'customer_id insights'?"
   ]
  },
  {
   "cell_type": "code",
   "execution_count": 199,
   "metadata": {},
   "outputs": [
    {
     "data": {
      "text/plain": [
       "3.9383379396769267"
      ]
     },
     "execution_count": 199,
     "metadata": {},
     "output_type": "execute_result"
    }
   ],
   "source": [
    "#create two sub datasets_verified and non verified\n",
    "e_ver = e_data[e_data['verified_purchase'] == 'Y']\n",
    "e_nver = e_data[e_data['verified_purchase'] == 'N']\n",
    "e_nver['star_rating'].mean()"
   ]
  },
  {
   "cell_type": "markdown",
   "metadata": {},
   "source": [
    "### Averages "
   ]
  },
  {
   "cell_type": "code",
   "execution_count": 15,
   "metadata": {},
   "outputs": [
    {
     "name": "stdout",
     "output_type": "stream",
     "text": [
      "Verified avg: 4.122314592808045 Unverified avg: 3.9383379396769267\n"
     ]
    }
   ],
   "source": [
    "#slightly higher rating for verified purchases\n",
    "print(f'Verified avg: {e_ver[\"star_rating\"].mean()}', f'Unverified avg: {e_nver[\"star_rating\"].mean()}')"
   ]
  },
  {
   "cell_type": "code",
   "execution_count": null,
   "metadata": {},
   "outputs": [],
   "source": [
    "#Create a slide: could this difference be due to inflatiomnary reviews"
   ]
  },
  {
   "cell_type": "markdown",
   "metadata": {},
   "source": [
    "### Visualisation number of each rating"
   ]
  },
  {
   "cell_type": "code",
   "execution_count": 203,
   "metadata": {},
   "outputs": [
    {
     "data": {
      "text/plain": [
       "Text(0,0.5,'# of Reviews')"
      ]
     },
     "execution_count": 203,
     "metadata": {},
     "output_type": "execute_result"
    },
    {
     "data": {
      "image/png": "[encoded data removed]",
      "text/plain": [
       "<matplotlib.figure.Figure at 0x1175a52b0>"
      ]
     },
     "metadata": {},
     "output_type": "display_data"
    }
   ],
   "source": [
    "rating_ver = e_ver.groupby('star_rating')\n",
    "rating_ver.size().plot( kind='bar')\n",
    "plt.title('Verified Purchases')\n",
    "plt.xlabel('Star Ratings')\n",
    "plt.ylabel('# of Reviews')"
   ]
  },
  {
   "cell_type": "code",
   "execution_count": 204,
   "metadata": {},
   "outputs": [
    {
     "data": {
      "text/plain": [
       "Text(0,0.5,'# of Reviews')"
      ]
     },
     "execution_count": 204,
     "metadata": {},
     "output_type": "execute_result"
    },
    {
     "data": {
      "image/png": "[encoded data removed]",
      "text/plain": [
       "<matplotlib.figure.Figure at 0x11b5d29b0>"
      ]
     },
     "metadata": {},
     "output_type": "display_data"
    }
   ],
   "source": [
    "#greateter population of 1*\n",
    "rating_nver = e_nver.groupby('star_rating')\n",
    "rating_nver.size().plot(kind='bar')\n",
    "plt.title('Unverified Purchases')\n",
    "plt.xlabel('Star Ratings')\n",
    "plt.ylabel('# of Reviews')"
   ]
  },
  {
   "cell_type": "markdown",
   "metadata": {},
   "source": [
    "### Length of review for each rating"
   ]
  },
  {
   "cell_type": "code",
   "execution_count": 207,
   "metadata": {},
   "outputs": [
    {
     "name": "stdout",
     "output_type": "stream",
     "text": [
      "Avg len Vreview: 180.61737687642537  Avg len of UVreview: 640.571180883388\n"
     ]
    }
   ],
   "source": [
    "#avg length of review\n",
    "calc_list = list()\n",
    "calc_list2 = list()\n",
    "for review in e_ver['review_body']:\n",
    "    calc_list.append(len(str(review)))\n",
    "    \n",
    "for review in e_nver['review_body']:\n",
    "    calc_list2.append(len(str(review)))\n",
    "    \n",
    "print(f'Avg len Vreview: {np.array(calc_list).mean()}', f' Avg len of UVreview: {np.array(calc_list2).mean()}')\n",
    "    "
   ]
  },
  {
   "cell_type": "code",
   "execution_count": 208,
   "metadata": {},
   "outputs": [
    {
     "name": "stderr",
     "output_type": "stream",
     "text": [
      "/anaconda3/lib/python3.6/site-packages/ipykernel_launcher.py:2: SettingWithCopyWarning: \n",
      "A value is trying to be set on a copy of a slice from a DataFrame.\n",
      "Try using .loc[row_indexer,col_indexer] = value instead\n",
      "\n",
      "See the caveats in the documentation: http://pandas.pydata.org/pandas-docs/stable/indexing.html#indexing-view-versus-copy\n",
      "  \n",
      "/anaconda3/lib/python3.6/site-packages/ipykernel_launcher.py:3: SettingWithCopyWarning: \n",
      "A value is trying to be set on a copy of a slice from a DataFrame.\n",
      "Try using .loc[row_indexer,col_indexer] = value instead\n",
      "\n",
      "See the caveats in the documentation: http://pandas.pydata.org/pandas-docs/stable/indexing.html#indexing-view-versus-copy\n",
      "  This is separate from the ipykernel package so we can avoid doing imports until\n"
     ]
    }
   ],
   "source": [
    "#see if there's any cooreleation between review length and star rating, in each group and whole\n",
    "e_ver['length'] = e_ver['review_body'].apply(lambda x: len(str(x)))\n",
    "e_nver['length'] = e_nver['review_body'].apply(lambda x: len(str(x)))"
   ]
  },
  {
   "cell_type": "code",
   "execution_count": 211,
   "metadata": {},
   "outputs": [
    {
     "data": {
      "text/plain": [
       "Text(0,0.5,'Star Ratings')"
      ]
     },
     "execution_count": 211,
     "metadata": {},
     "output_type": "execute_result"
    },
    {
     "data": {
      "image/png": "[encoded data removed]",
      "text/plain": [
       "<matplotlib.figure.Figure at 0x120c5d240>"
      ]
     },
     "metadata": {},
     "output_type": "display_data"
    }
   ],
   "source": [
    "plt.scatter(e_ver['length'], e_ver['star_rating'])\n",
    "plt.title('Verified')\n",
    "plt.xlabel('# of Reviews')\n",
    "plt.ylabel('Star Ratings')"
   ]
  },
  {
   "cell_type": "code",
   "execution_count": 210,
   "metadata": {},
   "outputs": [
    {
     "data": {
      "text/plain": [
       "Text(0,0.5,'Ratings')"
      ]
     },
     "execution_count": 210,
     "metadata": {},
     "output_type": "execute_result"
    },
    {
     "data": {
      "image/png": "[encoded data removed]",
      "text/plain": [
       "<matplotlib.figure.Figure at 0x14715bdd8>"
      ]
     },
     "metadata": {},
     "output_type": "display_data"
    }
   ],
   "source": [
    "plt.scatter(e_nver['length'], e_nver['star_rating'])\n",
    "plt.title('Unverified')\n",
    "plt.xlabel('# of reviews')\n",
    "plt.ylabel('Ratings')\n",
    "#place the average len for each rating on the plot"
   ]
  },
  {
   "cell_type": "code",
   "execution_count": 31,
   "metadata": {},
   "outputs": [
    {
     "data": {
      "text/html": [
       "<div>\n",
       "<style scoped>\n",
       "    .dataframe tbody tr th:only-of-type {\n",
       "        vertical-align: middle;\n",
       "    }\n",
       "\n",
       "    .dataframe tbody tr th {\n",
       "        vertical-align: top;\n",
       "    }\n",
       "\n",
       "    .dataframe thead th {\n",
       "        text-align: right;\n",
       "    }\n",
       "</style>\n",
       "<table border=\"1\" class=\"dataframe\">\n",
       "  <thead>\n",
       "    <tr style=\"text-align: right;\">\n",
       "      <th></th>\n",
       "      <th>marketplace</th>\n",
       "      <th>customer_id</th>\n",
       "      <th>review_id</th>\n",
       "      <th>product_id</th>\n",
       "      <th>product_parent</th>\n",
       "      <th>product_title</th>\n",
       "      <th>product_category</th>\n",
       "      <th>star_rating</th>\n",
       "      <th>helpful_votes</th>\n",
       "      <th>total_votes</th>\n",
       "      <th>vine</th>\n",
       "      <th>verified_purchase</th>\n",
       "      <th>review_headline</th>\n",
       "      <th>review_body</th>\n",
       "      <th>review_date</th>\n",
       "    </tr>\n",
       "  </thead>\n",
       "  <tbody>\n",
       "    <tr>\n",
       "      <th>0</th>\n",
       "      <td>US</td>\n",
       "      <td>41409413</td>\n",
       "      <td>R2MTG1GCZLR2DK</td>\n",
       "      <td>B00428R89M</td>\n",
       "      <td>112201306</td>\n",
       "      <td>yoomall 5M Antenna WIFI RP-SMA Female to Male ...</td>\n",
       "      <td>Electronics</td>\n",
       "      <td>5</td>\n",
       "      <td>0</td>\n",
       "      <td>0</td>\n",
       "      <td>N</td>\n",
       "      <td>Y</td>\n",
       "      <td>Five Stars</td>\n",
       "      <td>As described.</td>\n",
       "      <td>2015-08-31</td>\n",
       "    </tr>\n",
       "    <tr>\n",
       "      <th>1</th>\n",
       "      <td>US</td>\n",
       "      <td>49668221</td>\n",
       "      <td>R2HBOEM8LE9928</td>\n",
       "      <td>B000068O48</td>\n",
       "      <td>734576678</td>\n",
       "      <td>Hosa GPM-103 3.5mm TRS to 1/4\" TRS Adaptor</td>\n",
       "      <td>Electronics</td>\n",
       "      <td>5</td>\n",
       "      <td>0</td>\n",
       "      <td>0</td>\n",
       "      <td>N</td>\n",
       "      <td>Y</td>\n",
       "      <td>It works as advertising.</td>\n",
       "      <td>It works as advertising.</td>\n",
       "      <td>2015-08-31</td>\n",
       "    </tr>\n",
       "    <tr>\n",
       "      <th>2</th>\n",
       "      <td>US</td>\n",
       "      <td>12338275</td>\n",
       "      <td>R1P4RW1R9FDPEE</td>\n",
       "      <td>B000GGKOG8</td>\n",
       "      <td>614448099</td>\n",
       "      <td>Channel Master Titan 2 Antenna Preamplifier</td>\n",
       "      <td>Electronics</td>\n",
       "      <td>5</td>\n",
       "      <td>1</td>\n",
       "      <td>1</td>\n",
       "      <td>N</td>\n",
       "      <td>Y</td>\n",
       "      <td>Five Stars</td>\n",
       "      <td>Works pissa</td>\n",
       "      <td>2015-08-31</td>\n",
       "    </tr>\n",
       "    <tr>\n",
       "      <th>3</th>\n",
       "      <td>US</td>\n",
       "      <td>38487968</td>\n",
       "      <td>R1EBPM82ENI67M</td>\n",
       "      <td>B000NU4OTA</td>\n",
       "      <td>72265257</td>\n",
       "      <td>LIMTECH Wall charger + USB Hotsync &amp; Charging ...</td>\n",
       "      <td>Electronics</td>\n",
       "      <td>1</td>\n",
       "      <td>0</td>\n",
       "      <td>0</td>\n",
       "      <td>N</td>\n",
       "      <td>Y</td>\n",
       "      <td>One Star</td>\n",
       "      <td>Did not work at all.</td>\n",
       "      <td>2015-08-31</td>\n",
       "    </tr>\n",
       "    <tr>\n",
       "      <th>4</th>\n",
       "      <td>US</td>\n",
       "      <td>23732619</td>\n",
       "      <td>R372S58V6D11AT</td>\n",
       "      <td>B00JOQIO6S</td>\n",
       "      <td>308169188</td>\n",
       "      <td>Skullcandy Air Raid Portable Bluetooth Speaker</td>\n",
       "      <td>Electronics</td>\n",
       "      <td>5</td>\n",
       "      <td>1</td>\n",
       "      <td>1</td>\n",
       "      <td>N</td>\n",
       "      <td>Y</td>\n",
       "      <td>Overall pleased with the item</td>\n",
       "      <td>Works well. Bass is somewhat lacking but is pr...</td>\n",
       "      <td>2015-08-31</td>\n",
       "    </tr>\n",
       "  </tbody>\n",
       "</table>\n",
       "</div>"
      ],
      "text/plain": [
       "  marketplace  customer_id       review_id  product_id  product_parent  \\\n",
       "0          US     41409413  R2MTG1GCZLR2DK  B00428R89M       112201306   \n",
       "1          US     49668221  R2HBOEM8LE9928  B000068O48       734576678   \n",
       "2          US     12338275  R1P4RW1R9FDPEE  B000GGKOG8       614448099   \n",
       "3          US     38487968  R1EBPM82ENI67M  B000NU4OTA        72265257   \n",
       "4          US     23732619  R372S58V6D11AT  B00JOQIO6S       308169188   \n",
       "\n",
       "                                       product_title product_category  \\\n",
       "0  yoomall 5M Antenna WIFI RP-SMA Female to Male ...      Electronics   \n",
       "1         Hosa GPM-103 3.5mm TRS to 1/4\" TRS Adaptor      Electronics   \n",
       "2        Channel Master Titan 2 Antenna Preamplifier      Electronics   \n",
       "3  LIMTECH Wall charger + USB Hotsync & Charging ...      Electronics   \n",
       "4     Skullcandy Air Raid Portable Bluetooth Speaker      Electronics   \n",
       "\n",
       "   star_rating  helpful_votes  total_votes vine verified_purchase  \\\n",
       "0            5              0            0    N                 Y   \n",
       "1            5              0            0    N                 Y   \n",
       "2            5              1            1    N                 Y   \n",
       "3            1              0            0    N                 Y   \n",
       "4            5              1            1    N                 Y   \n",
       "\n",
       "                 review_headline  \\\n",
       "0                     Five Stars   \n",
       "1       It works as advertising.   \n",
       "2                     Five Stars   \n",
       "3                       One Star   \n",
       "4  Overall pleased with the item   \n",
       "\n",
       "                                         review_body review_date  \n",
       "0                                      As described.  2015-08-31  \n",
       "1                           It works as advertising.  2015-08-31  \n",
       "2                                        Works pissa  2015-08-31  \n",
       "3                               Did not work at all.  2015-08-31  \n",
       "4  Works well. Bass is somewhat lacking but is pr...  2015-08-31  "
      ]
     },
     "execution_count": 31,
     "metadata": {},
     "output_type": "execute_result"
    }
   ],
   "source": [
    "e_data.head()\n",
    "customer_id, review_id, product_title, star_rating, helpful_votes, verified_purchase, review_body"
   ]
  },
  {
   "cell_type": "markdown",
   "metadata": {},
   "source": [
    "## Products with a number of reviews atleast one St.dev above the average per product"
   ]
  },
  {
   "cell_type": "code",
   "execution_count": 57,
   "metadata": {},
   "outputs": [
    {
     "data": {
      "text/html": [
       "<div>\n",
       "<style scoped>\n",
       "    .dataframe tbody tr th:only-of-type {\n",
       "        vertical-align: middle;\n",
       "    }\n",
       "\n",
       "    .dataframe tbody tr th {\n",
       "        vertical-align: top;\n",
       "    }\n",
       "\n",
       "    .dataframe thead th {\n",
       "        text-align: right;\n",
       "    }\n",
       "</style>\n",
       "<table border=\"1\" class=\"dataframe\">\n",
       "  <thead>\n",
       "    <tr style=\"text-align: right;\">\n",
       "      <th></th>\n",
       "      <th>Avg Rating</th>\n",
       "      <th># of Reviews</th>\n",
       "      <th>count_rank</th>\n",
       "      <th>Review # Significance</th>\n",
       "    </tr>\n",
       "    <tr>\n",
       "      <th>product_title</th>\n",
       "      <th></th>\n",
       "      <th></th>\n",
       "      <th></th>\n",
       "      <th></th>\n",
       "    </tr>\n",
       "  </thead>\n",
       "  <tbody>\n",
       "    <tr>\n",
       "      <th>TDK Life on Record TREK Max A34 Wireless Weatherproof Speaker</th>\n",
       "      <td>4.324074</td>\n",
       "      <td>216</td>\n",
       "      <td>504.0</td>\n",
       "      <td>1.0</td>\n",
       "    </tr>\n",
       "    <tr>\n",
       "      <th>Sherwood RX-4109 200W Stereo Receiver – Black</th>\n",
       "      <td>3.929245</td>\n",
       "      <td>212</td>\n",
       "      <td>514.5</td>\n",
       "      <td>1.0</td>\n",
       "    </tr>\n",
       "    <tr>\n",
       "      <th>eForCity 538581 HDMI to 5 RCA Cable, 5-Feet</th>\n",
       "      <td>2.312500</td>\n",
       "      <td>160</td>\n",
       "      <td>743.0</td>\n",
       "      <td>1.0</td>\n",
       "    </tr>\n",
       "    <tr>\n",
       "      <th>Generic JBL Charge 2 Bluetooth Portable Hard Carry Case Cover Bag Pouch for JBL Charge 2 Bluetooth Speaker</th>\n",
       "      <td>4.067961</td>\n",
       "      <td>103</td>\n",
       "      <td>1247.5</td>\n",
       "      <td>1.0</td>\n",
       "    </tr>\n",
       "    <tr>\n",
       "      <th>eForCity 435232 5-Feet HDMI to 3 RCA Cable</th>\n",
       "      <td>2.651786</td>\n",
       "      <td>112</td>\n",
       "      <td>1135.5</td>\n",
       "      <td>1.0</td>\n",
       "    </tr>\n",
       "  </tbody>\n",
       "</table>\n",
       "</div>"
      ],
      "text/plain": [
       "                                                    Avg Rating  # of Reviews  \\\n",
       "product_title                                                                  \n",
       "TDK Life on Record TREK Max A34 Wireless Weathe...    4.324074           216   \n",
       "Sherwood RX-4109 200W Stereo Receiver – Black         3.929245           212   \n",
       "eForCity 538581 HDMI to 5 RCA Cable, 5-Feet           2.312500           160   \n",
       "Generic JBL Charge 2 Bluetooth Portable Hard Ca...    4.067961           103   \n",
       "eForCity 435232 5-Feet HDMI to 3 RCA Cable            2.651786           112   \n",
       "\n",
       "                                                    count_rank  \\\n",
       "product_title                                                    \n",
       "TDK Life on Record TREK Max A34 Wireless Weathe...       504.0   \n",
       "Sherwood RX-4109 200W Stereo Receiver – Black            514.5   \n",
       "eForCity 538581 HDMI to 5 RCA Cable, 5-Feet              743.0   \n",
       "Generic JBL Charge 2 Bluetooth Portable Hard Ca...      1247.5   \n",
       "eForCity 435232 5-Feet HDMI to 3 RCA Cable              1135.5   \n",
       "\n",
       "                                                    Review # Significance  \n",
       "product_title                                                              \n",
       "TDK Life on Record TREK Max A34 Wireless Weathe...                    1.0  \n",
       "Sherwood RX-4109 200W Stereo Receiver – Black                         1.0  \n",
       "eForCity 538581 HDMI to 5 RCA Cable, 5-Feet                           1.0  \n",
       "Generic JBL Charge 2 Bluetooth Portable Hard Ca...                    1.0  \n",
       "eForCity 435232 5-Feet HDMI to 3 RCA Cable                            1.0  "
      ]
     },
     "execution_count": 57,
     "metadata": {},
     "output_type": "execute_result"
    }
   ],
   "source": [
    "#looking only at products that a number or ratings one st.dev above the mean\n",
    "def weighting(df):\n",
    "    filtered_df = df.groupby('product_title')['star_rating'].agg(['mean', 'count'])\n",
    "    filtered_df.columns = ['Avg Rating', '# of Reviews']\n",
    "    filtered_df['count_rank'] = filtered_df['# of Reviews'].rank(ascending=False)\n",
    "    #sort = filtered_df[['Avg Rating', '# Of Reviews', 'rank']].sort_values('rank', ascending=True)\n",
    "    threshold = filtered_df['# of Reviews'].mean() + filtered_df['# of Reviews'].std()\n",
    "    \n",
    "    filtered_df['Review # Significance'] = np.where(filtered_df['# of Reviews'] >= threshold, float(1), float(0))\n",
    "    return filtered_df\n",
    "\n",
    "e_top = (weighting(e_data)).sort_values('Review # Significance', ascending=False)\n",
    "e_top.head()"
   ]
  },
  {
   "cell_type": "code",
   "execution_count": 212,
   "metadata": {},
   "outputs": [
    {
     "data": {
      "text/html": [
       "<div>\n",
       "<style scoped>\n",
       "    .dataframe tbody tr th:only-of-type {\n",
       "        vertical-align: middle;\n",
       "    }\n",
       "\n",
       "    .dataframe tbody tr th {\n",
       "        vertical-align: top;\n",
       "    }\n",
       "\n",
       "    .dataframe thead th {\n",
       "        text-align: right;\n",
       "    }\n",
       "</style>\n",
       "<table border=\"1\" class=\"dataframe\">\n",
       "  <thead>\n",
       "    <tr style=\"text-align: right;\">\n",
       "      <th></th>\n",
       "      <th>marketplace</th>\n",
       "      <th>customer_id</th>\n",
       "      <th>review_id</th>\n",
       "      <th>product_id</th>\n",
       "      <th>product_parent</th>\n",
       "      <th>product_title</th>\n",
       "      <th>product_category</th>\n",
       "      <th>star_rating</th>\n",
       "      <th>helpful_votes</th>\n",
       "      <th>total_votes</th>\n",
       "      <th>vine</th>\n",
       "      <th>verified_purchase</th>\n",
       "      <th>review_headline</th>\n",
       "      <th>review_body</th>\n",
       "      <th>review_date</th>\n",
       "      <th>length</th>\n",
       "    </tr>\n",
       "  </thead>\n",
       "  <tbody>\n",
       "    <tr>\n",
       "      <th>0</th>\n",
       "      <td>US</td>\n",
       "      <td>41409413</td>\n",
       "      <td>R2MTG1GCZLR2DK</td>\n",
       "      <td>B00428R89M</td>\n",
       "      <td>112201306</td>\n",
       "      <td>yoomall 5M Antenna WIFI RP-SMA Female to Male ...</td>\n",
       "      <td>Electronics</td>\n",
       "      <td>5</td>\n",
       "      <td>0</td>\n",
       "      <td>0</td>\n",
       "      <td>N</td>\n",
       "      <td>Y</td>\n",
       "      <td>Five Stars</td>\n",
       "      <td>As described.</td>\n",
       "      <td>2015-08-31</td>\n",
       "      <td>13</td>\n",
       "    </tr>\n",
       "    <tr>\n",
       "      <th>1</th>\n",
       "      <td>US</td>\n",
       "      <td>49668221</td>\n",
       "      <td>R2HBOEM8LE9928</td>\n",
       "      <td>B000068O48</td>\n",
       "      <td>734576678</td>\n",
       "      <td>Hosa GPM-103 3.5mm TRS to 1/4\" TRS Adaptor</td>\n",
       "      <td>Electronics</td>\n",
       "      <td>5</td>\n",
       "      <td>0</td>\n",
       "      <td>0</td>\n",
       "      <td>N</td>\n",
       "      <td>Y</td>\n",
       "      <td>It works as advertising.</td>\n",
       "      <td>It works as advertising.</td>\n",
       "      <td>2015-08-31</td>\n",
       "      <td>24</td>\n",
       "    </tr>\n",
       "    <tr>\n",
       "      <th>2</th>\n",
       "      <td>US</td>\n",
       "      <td>12338275</td>\n",
       "      <td>R1P4RW1R9FDPEE</td>\n",
       "      <td>B000GGKOG8</td>\n",
       "      <td>614448099</td>\n",
       "      <td>Channel Master Titan 2 Antenna Preamplifier</td>\n",
       "      <td>Electronics</td>\n",
       "      <td>5</td>\n",
       "      <td>1</td>\n",
       "      <td>1</td>\n",
       "      <td>N</td>\n",
       "      <td>Y</td>\n",
       "      <td>Five Stars</td>\n",
       "      <td>Works pissa</td>\n",
       "      <td>2015-08-31</td>\n",
       "      <td>11</td>\n",
       "    </tr>\n",
       "    <tr>\n",
       "      <th>3</th>\n",
       "      <td>US</td>\n",
       "      <td>38487968</td>\n",
       "      <td>R1EBPM82ENI67M</td>\n",
       "      <td>B000NU4OTA</td>\n",
       "      <td>72265257</td>\n",
       "      <td>LIMTECH Wall charger + USB Hotsync &amp; Charging ...</td>\n",
       "      <td>Electronics</td>\n",
       "      <td>1</td>\n",
       "      <td>0</td>\n",
       "      <td>0</td>\n",
       "      <td>N</td>\n",
       "      <td>Y</td>\n",
       "      <td>One Star</td>\n",
       "      <td>Did not work at all.</td>\n",
       "      <td>2015-08-31</td>\n",
       "      <td>20</td>\n",
       "    </tr>\n",
       "    <tr>\n",
       "      <th>4</th>\n",
       "      <td>US</td>\n",
       "      <td>23732619</td>\n",
       "      <td>R372S58V6D11AT</td>\n",
       "      <td>B00JOQIO6S</td>\n",
       "      <td>308169188</td>\n",
       "      <td>Skullcandy Air Raid Portable Bluetooth Speaker</td>\n",
       "      <td>Electronics</td>\n",
       "      <td>5</td>\n",
       "      <td>1</td>\n",
       "      <td>1</td>\n",
       "      <td>N</td>\n",
       "      <td>Y</td>\n",
       "      <td>Overall pleased with the item</td>\n",
       "      <td>Works well. Bass is somewhat lacking but is pr...</td>\n",
       "      <td>2015-08-31</td>\n",
       "      <td>83</td>\n",
       "    </tr>\n",
       "  </tbody>\n",
       "</table>\n",
       "</div>"
      ],
      "text/plain": [
       "  marketplace  customer_id       review_id  product_id  product_parent  \\\n",
       "0          US     41409413  R2MTG1GCZLR2DK  B00428R89M       112201306   \n",
       "1          US     49668221  R2HBOEM8LE9928  B000068O48       734576678   \n",
       "2          US     12338275  R1P4RW1R9FDPEE  B000GGKOG8       614448099   \n",
       "3          US     38487968  R1EBPM82ENI67M  B000NU4OTA        72265257   \n",
       "4          US     23732619  R372S58V6D11AT  B00JOQIO6S       308169188   \n",
       "\n",
       "                                       product_title product_category  \\\n",
       "0  yoomall 5M Antenna WIFI RP-SMA Female to Male ...      Electronics   \n",
       "1         Hosa GPM-103 3.5mm TRS to 1/4\" TRS Adaptor      Electronics   \n",
       "2        Channel Master Titan 2 Antenna Preamplifier      Electronics   \n",
       "3  LIMTECH Wall charger + USB Hotsync & Charging ...      Electronics   \n",
       "4     Skullcandy Air Raid Portable Bluetooth Speaker      Electronics   \n",
       "\n",
       "   star_rating  helpful_votes  total_votes vine verified_purchase  \\\n",
       "0            5              0            0    N                 Y   \n",
       "1            5              0            0    N                 Y   \n",
       "2            5              1            1    N                 Y   \n",
       "3            1              0            0    N                 Y   \n",
       "4            5              1            1    N                 Y   \n",
       "\n",
       "                 review_headline  \\\n",
       "0                     Five Stars   \n",
       "1       It works as advertising.   \n",
       "2                     Five Stars   \n",
       "3                       One Star   \n",
       "4  Overall pleased with the item   \n",
       "\n",
       "                                         review_body review_date  length  \n",
       "0                                      As described.  2015-08-31      13  \n",
       "1                           It works as advertising.  2015-08-31      24  \n",
       "2                                        Works pissa  2015-08-31      11  \n",
       "3                               Did not work at all.  2015-08-31      20  \n",
       "4  Works well. Bass is somewhat lacking but is pr...  2015-08-31      83  "
      ]
     },
     "execution_count": 212,
     "metadata": {},
     "output_type": "execute_result"
    }
   ],
   "source": [
    "#join e_top[e_ver e_nver\n",
    "e_ver.head()"
   ]
  },
  {
   "cell_type": "code",
   "execution_count": 213,
   "metadata": {},
   "outputs": [
    {
     "data": {
      "text/plain": [
       "<matplotlib.axes._subplots.AxesSubplot at 0x12c677550>"
      ]
     },
     "execution_count": 213,
     "metadata": {},
     "output_type": "execute_result"
    },
    {
     "data": {
      "image/png": "[encoded data removed]",
      "text/plain": [
       "<matplotlib.figure.Figure at 0x11de18e48>"
      ]
     },
     "metadata": {},
     "output_type": "display_data"
    }
   ],
   "source": [
    "#same visualization with only top purchased products\n",
    "rating_ver_join = e_ver.merge(e_top, how='left', left_on='product_title', right_on='product_title') # join with top\n",
    "rating_ver_top = rating_ver_join[rating_ver_join['Review # Significance'] == 1]\n",
    "grouped_ver = rating_ver_top.groupby('star_rating')\n",
    "grouped_ver.size().plot( kind='bar')\n",
    "#rating_ver_top.head()"
   ]
  },
  {
   "cell_type": "code",
   "execution_count": 76,
   "metadata": {},
   "outputs": [
    {
     "name": "stderr",
     "output_type": "stream",
     "text": [
      "/anaconda3/lib/python3.6/site-packages/ipykernel_launcher.py:3: UserWarning: Boolean Series key will be reindexed to match DataFrame index.\n",
      "  This is separate from the ipykernel package so we can avoid doing imports until\n"
     ]
    },
    {
     "data": {
      "text/plain": [
       "<matplotlib.axes._subplots.AxesSubplot at 0x121181400>"
      ]
     },
     "execution_count": 76,
     "metadata": {},
     "output_type": "execute_result"
    },
    {
     "data": {
      "image/png": "[encoded data removed]",
      "text/plain": [
       "<matplotlib.figure.Figure at 0x11d7a9cc0>"
      ]
     },
     "metadata": {},
     "output_type": "display_data"
    }
   ],
   "source": [
    "#same visualization with only top purchased products\n",
    "rating_nver_join = e_nver.merge(e_top, how='left', left_on='product_title', right_on='product_title') # join with top\n",
    "rating_nver_top = rating_nver_join[rating_ver_join['Review # Significance'] == 1]\n",
    "grouped_nver = rating_nver_top.groupby('star_rating')\n",
    "grouped_nver.size().plot( kind='bar')\n",
    "#rating_ver_top.head()"
   ]
  },
  {
   "cell_type": "code",
   "execution_count": 78,
   "metadata": {},
   "outputs": [
    {
     "name": "stdout",
     "output_type": "stream",
     "text": [
      "Verified avg: 4.180061429828722 Unverified avg: 3.9467611336032387\n"
     ]
    }
   ],
   "source": [
    "#average rating for each\n",
    "print(f'Verified avg: {rating_ver_top[\"star_rating\"].mean()}', f'Unverified avg: {rating_nver_top[\"star_rating\"].mean()}')"
   ]
  },
  {
   "cell_type": "markdown",
   "metadata": {},
   "source": [
    "## Length of these reviews by rating"
   ]
  },
  {
   "cell_type": "code",
   "execution_count": 74,
   "metadata": {},
   "outputs": [
    {
     "name": "stdout",
     "output_type": "stream",
     "text": [
      "Avg len Vreview: 187.16645150163214  Avg len of UVreview: 640.571180883388\n"
     ]
    }
   ],
   "source": [
    "#new length of words for each\n",
    "avg_g_ver = grouped_ver['star_rating'].mean()\n",
    "calc_list = list()\n",
    "calc_list2 = list()\n",
    "for review in rating_ver_top['review_body']:\n",
    "    calc_list.append(len(str(review)))\n",
    "    \n",
    "for review in e_nver['review_body']:\n",
    "    calc_list2.append(len(str(review)))\n",
    "    \n",
    "print(f'Avg len Vreview: {np.array(calc_list).mean()}', f' Avg len of UVreview: {np.array(calc_list2).mean()}')"
   ]
  },
  {
   "cell_type": "code",
   "execution_count": 79,
   "metadata": {},
   "outputs": [],
   "source": [
    "#length visualizations\n",
    "rating_ver_join['length'] = rating_ver_join['review_body'].apply(lambda x: len(str(x)))\n",
    "rating_nver_join['length'] = rating_nver_join['review_body'].apply(lambda x: len(str(x)))"
   ]
  },
  {
   "cell_type": "code",
   "execution_count": 80,
   "metadata": {},
   "outputs": [
    {
     "data": {
      "text/plain": [
       "Text(0,0.5,'Ratings')"
      ]
     },
     "execution_count": 80,
     "metadata": {},
     "output_type": "execute_result"
    },
    {
     "data": {
      "image/png": "[encoded data removed]",
      "text/plain": [
       "<matplotlib.figure.Figure at 0x11d035780>"
      ]
     },
     "metadata": {},
     "output_type": "display_data"
    }
   ],
   "source": [
    "plt.scatter(rating_ver_join['length'], rating_ver_join['star_rating'])\n",
    "plt.title('Verified')\n",
    "plt.xlabel('# of reviews')\n",
    "plt.ylabel('Ratings')"
   ]
  },
  {
   "cell_type": "code",
   "execution_count": 81,
   "metadata": {},
   "outputs": [
    {
     "data": {
      "text/plain": [
       "Text(0,0.5,'Ratings')"
      ]
     },
     "execution_count": 81,
     "metadata": {},
     "output_type": "execute_result"
    },
    {
     "data": {
      "image/png": "[encoded data removed]",
      "text/plain": [
       "<matplotlib.figure.Figure at 0x11de22f98>"
      ]
     },
     "metadata": {},
     "output_type": "display_data"
    }
   ],
   "source": [
    "plt.scatter(rating_nver_join['length'], rating_nver_join['star_rating'])\n",
    "plt.title('Unverified')\n",
    "plt.xlabel('# of reviews')\n",
    "plt.ylabel('Ratings')"
   ]
  },
  {
   "cell_type": "code",
   "execution_count": 105,
   "metadata": {},
   "outputs": [],
   "source": [
    "rating_ver_top = e_ver.merge(e_top, how='left', left_on='product_title', right_on='product_title') # join with top"
   ]
  },
  {
   "cell_type": "markdown",
   "metadata": {},
   "source": [
    "## By reviewer"
   ]
  },
  {
   "cell_type": "markdown",
   "metadata": {},
   "source": [
    "### Customers: Average rating given & Number of ratings"
   ]
  },
  {
   "cell_type": "code",
   "execution_count": 150,
   "metadata": {},
   "outputs": [],
   "source": [
    "#rating_nver_join.head()\n",
    "e_data_join1 = e_data.merge(e_top, how='left', left_on='product_title', right_on='product_title')\n",
    "#cus_size = e_data_join1.groupby('customer_id').size()\n",
    "#e_data_join2 = e_data_join1.merge(cus_size, how='left', left_on='customer_id', right_on='product_title')\n"
   ]
  },
  {
   "cell_type": "code",
   "execution_count": 151,
   "metadata": {},
   "outputs": [
    {
     "data": {
      "text/html": [
       "<div>\n",
       "<style scoped>\n",
       "    .dataframe tbody tr th:only-of-type {\n",
       "        vertical-align: middle;\n",
       "    }\n",
       "\n",
       "    .dataframe tbody tr th {\n",
       "        vertical-align: top;\n",
       "    }\n",
       "\n",
       "    .dataframe thead th {\n",
       "        text-align: right;\n",
       "    }\n",
       "</style>\n",
       "<table border=\"1\" class=\"dataframe\">\n",
       "  <thead>\n",
       "    <tr style=\"text-align: right;\">\n",
       "      <th></th>\n",
       "      <th>Customer mean rating</th>\n",
       "      <th>Customer rating count</th>\n",
       "    </tr>\n",
       "    <tr>\n",
       "      <th>customer_id</th>\n",
       "      <th></th>\n",
       "      <th></th>\n",
       "    </tr>\n",
       "  </thead>\n",
       "  <tbody>\n",
       "    <tr>\n",
       "      <th>32038204</th>\n",
       "      <td>4.694915</td>\n",
       "      <td>118</td>\n",
       "    </tr>\n",
       "    <tr>\n",
       "      <th>14308733</th>\n",
       "      <td>1.022472</td>\n",
       "      <td>89</td>\n",
       "    </tr>\n",
       "    <tr>\n",
       "      <th>51812418</th>\n",
       "      <td>3.823529</td>\n",
       "      <td>85</td>\n",
       "    </tr>\n",
       "    <tr>\n",
       "      <th>45664110</th>\n",
       "      <td>3.974026</td>\n",
       "      <td>77</td>\n",
       "    </tr>\n",
       "    <tr>\n",
       "      <th>52870270</th>\n",
       "      <td>4.712121</td>\n",
       "      <td>66</td>\n",
       "    </tr>\n",
       "  </tbody>\n",
       "</table>\n",
       "</div>"
      ],
      "text/plain": [
       "             Customer mean rating  Customer rating count\n",
       "customer_id                                             \n",
       "32038204                 4.694915                    118\n",
       "14308733                 1.022472                     89\n",
       "51812418                 3.823529                     85\n",
       "45664110                 3.974026                     77\n",
       "52870270                 4.712121                     66"
      ]
     },
     "execution_count": 151,
     "metadata": {},
     "output_type": "execute_result"
    }
   ],
   "source": [
    "#Customers DF\n",
    "cus = e_data_join1.groupby('customer_id')['star_rating'].agg(['mean', 'count'])\n",
    "\n",
    "sorted_cus = cus.sort_values('count', ascending = False)\n",
    "#rename columns\n",
    "sorted_cus.columns = ['Customer mean rating', 'Customer rating count']\n",
    "sorted_cus.head()"
   ]
  },
  {
   "cell_type": "code",
   "execution_count": 170,
   "metadata": {},
   "outputs": [
    {
     "data": {
      "text/html": [
       "<div>\n",
       "<style scoped>\n",
       "    .dataframe tbody tr th:only-of-type {\n",
       "        vertical-align: middle;\n",
       "    }\n",
       "\n",
       "    .dataframe tbody tr th {\n",
       "        vertical-align: top;\n",
       "    }\n",
       "\n",
       "    .dataframe thead th {\n",
       "        text-align: right;\n",
       "    }\n",
       "</style>\n",
       "<table border=\"1\" class=\"dataframe\">\n",
       "  <thead>\n",
       "    <tr style=\"text-align: right;\">\n",
       "      <th></th>\n",
       "      <th>Customer mean rating</th>\n",
       "      <th>Customer rating count</th>\n",
       "      <th>Mean product rating</th>\n",
       "    </tr>\n",
       "    <tr>\n",
       "      <th>customer_id</th>\n",
       "      <th></th>\n",
       "      <th></th>\n",
       "      <th></th>\n",
       "    </tr>\n",
       "  </thead>\n",
       "  <tbody>\n",
       "    <tr>\n",
       "      <th>32038204</th>\n",
       "      <td>4.694915</td>\n",
       "      <td>118</td>\n",
       "      <td>4.330519</td>\n",
       "    </tr>\n",
       "    <tr>\n",
       "      <th>14308733</th>\n",
       "      <td>1.022472</td>\n",
       "      <td>89</td>\n",
       "      <td>1.046192</td>\n",
       "    </tr>\n",
       "    <tr>\n",
       "      <th>51812418</th>\n",
       "      <td>3.823529</td>\n",
       "      <td>85</td>\n",
       "      <td>3.816887</td>\n",
       "    </tr>\n",
       "    <tr>\n",
       "      <th>45664110</th>\n",
       "      <td>3.974026</td>\n",
       "      <td>77</td>\n",
       "      <td>4.181268</td>\n",
       "    </tr>\n",
       "    <tr>\n",
       "      <th>52870270</th>\n",
       "      <td>4.712121</td>\n",
       "      <td>66</td>\n",
       "      <td>4.294056</td>\n",
       "    </tr>\n",
       "  </tbody>\n",
       "</table>\n",
       "</div>"
      ],
      "text/plain": [
       "             Customer mean rating  Customer rating count  Mean product rating\n",
       "customer_id                                                                  \n",
       "32038204                 4.694915                    118             4.330519\n",
       "14308733                 1.022472                     89             1.046192\n",
       "51812418                 3.823529                     85             3.816887\n",
       "45664110                 3.974026                     77             4.181268\n",
       "52870270                 4.712121                     66             4.294056"
      ]
     },
     "execution_count": 170,
     "metadata": {},
     "output_type": "execute_result"
    }
   ],
   "source": [
    "#join average review for each instance of the 'product_title'\n",
    "\n",
    "prod_rev = e_data_join1.groupby('product_title')['star_rating'].agg(['mean', 'count'])\n",
    "\n",
    "#join back to e_data_join1\n",
    "e_data_join2 = e_data_join1.merge(prod_rev, how='left', left_on='product_title', right_on='product_title')\n",
    "#only columns of interest\n",
    "e_data_join2_trim = e_data_join2.groupby('customer_id')['mean'].agg(['mean'])\n",
    "\n",
    "\n",
    "#join to the sorted_cus df\n",
    "absolute_cus = sorted_cus.merge(e_data_join2_trim, how='left', left_on='customer_id', right_on='customer_id')\n",
    "absolute_cus.columns = ['Customer mean rating', 'Customer rating count', 'Mean product rating']\n",
    "absolute_cus.head()"
   ]
  },
  {
   "cell_type": "markdown",
   "metadata": {},
   "source": [
    "## Dataframe showing each customer and how their ratings vary from actual product ratings"
   ]
  },
  {
   "cell_type": "code",
   "execution_count": 185,
   "metadata": {},
   "outputs": [],
   "source": [
    "absolute_cus['Rating_delta'] = absolute_cus['Customer mean rating'] - absolute_cus['Mean product rating']\n"
   ]
  },
  {
   "cell_type": "markdown",
   "metadata": {},
   "source": [
    "#### Top 10 by number of reviews written"
   ]
  },
  {
   "cell_type": "code",
   "execution_count": 186,
   "metadata": {},
   "outputs": [
    {
     "data": {
      "text/html": [
       "<div>\n",
       "<style scoped>\n",
       "    .dataframe tbody tr th:only-of-type {\n",
       "        vertical-align: middle;\n",
       "    }\n",
       "\n",
       "    .dataframe tbody tr th {\n",
       "        vertical-align: top;\n",
       "    }\n",
       "\n",
       "    .dataframe thead th {\n",
       "        text-align: right;\n",
       "    }\n",
       "</style>\n",
       "<table border=\"1\" class=\"dataframe\">\n",
       "  <thead>\n",
       "    <tr style=\"text-align: right;\">\n",
       "      <th></th>\n",
       "      <th>Customer mean rating</th>\n",
       "      <th>Customer rating count</th>\n",
       "      <th>Mean product rating</th>\n",
       "      <th>Rating_delta</th>\n",
       "    </tr>\n",
       "    <tr>\n",
       "      <th>customer_id</th>\n",
       "      <th></th>\n",
       "      <th></th>\n",
       "      <th></th>\n",
       "      <th></th>\n",
       "    </tr>\n",
       "  </thead>\n",
       "  <tbody>\n",
       "    <tr>\n",
       "      <th>32038204</th>\n",
       "      <td>4.694915</td>\n",
       "      <td>118</td>\n",
       "      <td>4.330519</td>\n",
       "      <td>0.364397</td>\n",
       "    </tr>\n",
       "    <tr>\n",
       "      <th>14308733</th>\n",
       "      <td>1.022472</td>\n",
       "      <td>89</td>\n",
       "      <td>1.046192</td>\n",
       "      <td>-0.023720</td>\n",
       "    </tr>\n",
       "    <tr>\n",
       "      <th>51812418</th>\n",
       "      <td>3.823529</td>\n",
       "      <td>85</td>\n",
       "      <td>3.816887</td>\n",
       "      <td>0.006642</td>\n",
       "    </tr>\n",
       "    <tr>\n",
       "      <th>45664110</th>\n",
       "      <td>3.974026</td>\n",
       "      <td>77</td>\n",
       "      <td>4.181268</td>\n",
       "      <td>-0.207242</td>\n",
       "    </tr>\n",
       "    <tr>\n",
       "      <th>52870270</th>\n",
       "      <td>4.712121</td>\n",
       "      <td>66</td>\n",
       "      <td>4.294056</td>\n",
       "      <td>0.418065</td>\n",
       "    </tr>\n",
       "    <tr>\n",
       "      <th>14945970</th>\n",
       "      <td>4.206897</td>\n",
       "      <td>58</td>\n",
       "      <td>4.365671</td>\n",
       "      <td>-0.158774</td>\n",
       "    </tr>\n",
       "    <tr>\n",
       "      <th>5478843</th>\n",
       "      <td>3.962264</td>\n",
       "      <td>53</td>\n",
       "      <td>4.149466</td>\n",
       "      <td>-0.187202</td>\n",
       "    </tr>\n",
       "    <tr>\n",
       "      <th>16255502</th>\n",
       "      <td>4.941176</td>\n",
       "      <td>51</td>\n",
       "      <td>4.246697</td>\n",
       "      <td>0.694480</td>\n",
       "    </tr>\n",
       "    <tr>\n",
       "      <th>27546908</th>\n",
       "      <td>4.823529</td>\n",
       "      <td>51</td>\n",
       "      <td>4.635322</td>\n",
       "      <td>0.188207</td>\n",
       "    </tr>\n",
       "    <tr>\n",
       "      <th>39789300</th>\n",
       "      <td>4.955556</td>\n",
       "      <td>45</td>\n",
       "      <td>4.634926</td>\n",
       "      <td>0.320630</td>\n",
       "    </tr>\n",
       "  </tbody>\n",
       "</table>\n",
       "</div>"
      ],
      "text/plain": [
       "             Customer mean rating  Customer rating count  Mean product rating  \\\n",
       "customer_id                                                                     \n",
       "32038204                 4.694915                    118             4.330519   \n",
       "14308733                 1.022472                     89             1.046192   \n",
       "51812418                 3.823529                     85             3.816887   \n",
       "45664110                 3.974026                     77             4.181268   \n",
       "52870270                 4.712121                     66             4.294056   \n",
       "14945970                 4.206897                     58             4.365671   \n",
       "5478843                  3.962264                     53             4.149466   \n",
       "16255502                 4.941176                     51             4.246697   \n",
       "27546908                 4.823529                     51             4.635322   \n",
       "39789300                 4.955556                     45             4.634926   \n",
       "\n",
       "             Rating_delta  \n",
       "customer_id                \n",
       "32038204         0.364397  \n",
       "14308733        -0.023720  \n",
       "51812418         0.006642  \n",
       "45664110        -0.207242  \n",
       "52870270         0.418065  \n",
       "14945970        -0.158774  \n",
       "5478843         -0.187202  \n",
       "16255502         0.694480  \n",
       "27546908         0.188207  \n",
       "39789300         0.320630  "
      ]
     },
     "execution_count": 186,
     "metadata": {},
     "output_type": "execute_result"
    }
   ],
   "source": [
    "#visualize for top 10\n",
    "absolute_cus[:10]"
   ]
  },
  {
   "cell_type": "code",
   "execution_count": 214,
   "metadata": {},
   "outputs": [],
   "source": [
    "#sort by those with greatest difference and number of reviews over _____\n",
    "absolute_cus_identify = (absolute_cus[absolute_cus['Customer rating count'] >= 5]).sort_values('Rating_delta')"
   ]
  },
  {
   "cell_type": "code",
   "execution_count": 196,
   "metadata": {},
   "outputs": [
    {
     "data": {
      "text/html": [
       "<div>\n",
       "<style scoped>\n",
       "    .dataframe tbody tr th:only-of-type {\n",
       "        vertical-align: middle;\n",
       "    }\n",
       "\n",
       "    .dataframe tbody tr th {\n",
       "        vertical-align: top;\n",
       "    }\n",
       "\n",
       "    .dataframe thead th {\n",
       "        text-align: right;\n",
       "    }\n",
       "</style>\n",
       "<table border=\"1\" class=\"dataframe\">\n",
       "  <thead>\n",
       "    <tr style=\"text-align: right;\">\n",
       "      <th></th>\n",
       "      <th>Customer mean rating</th>\n",
       "      <th>Customer rating count</th>\n",
       "      <th>Mean product rating</th>\n",
       "      <th>Rating_delta</th>\n",
       "    </tr>\n",
       "    <tr>\n",
       "      <th>customer_id</th>\n",
       "      <th></th>\n",
       "      <th></th>\n",
       "      <th></th>\n",
       "      <th></th>\n",
       "    </tr>\n",
       "  </thead>\n",
       "  <tbody>\n",
       "    <tr>\n",
       "      <th>27833552</th>\n",
       "      <td>1.000000</td>\n",
       "      <td>6</td>\n",
       "      <td>4.118988</td>\n",
       "      <td>-3.118988</td>\n",
       "    </tr>\n",
       "    <tr>\n",
       "      <th>22254536</th>\n",
       "      <td>1.000000</td>\n",
       "      <td>5</td>\n",
       "      <td>3.798758</td>\n",
       "      <td>-2.798758</td>\n",
       "    </tr>\n",
       "    <tr>\n",
       "      <th>13417096</th>\n",
       "      <td>1.428571</td>\n",
       "      <td>7</td>\n",
       "      <td>4.137186</td>\n",
       "      <td>-2.708614</td>\n",
       "    </tr>\n",
       "    <tr>\n",
       "      <th>15209318</th>\n",
       "      <td>1.200000</td>\n",
       "      <td>10</td>\n",
       "      <td>3.884001</td>\n",
       "      <td>-2.684001</td>\n",
       "    </tr>\n",
       "    <tr>\n",
       "      <th>41811804</th>\n",
       "      <td>1.800000</td>\n",
       "      <td>5</td>\n",
       "      <td>4.379186</td>\n",
       "      <td>-2.579186</td>\n",
       "    </tr>\n",
       "    <tr>\n",
       "      <th>19907926</th>\n",
       "      <td>1.600000</td>\n",
       "      <td>5</td>\n",
       "      <td>4.173850</td>\n",
       "      <td>-2.573850</td>\n",
       "    </tr>\n",
       "    <tr>\n",
       "      <th>3062127</th>\n",
       "      <td>1.800000</td>\n",
       "      <td>5</td>\n",
       "      <td>4.333122</td>\n",
       "      <td>-2.533122</td>\n",
       "    </tr>\n",
       "    <tr>\n",
       "      <th>11536769</th>\n",
       "      <td>1.800000</td>\n",
       "      <td>5</td>\n",
       "      <td>4.325474</td>\n",
       "      <td>-2.525474</td>\n",
       "    </tr>\n",
       "    <tr>\n",
       "      <th>52183619</th>\n",
       "      <td>1.384615</td>\n",
       "      <td>13</td>\n",
       "      <td>3.829254</td>\n",
       "      <td>-2.444639</td>\n",
       "    </tr>\n",
       "    <tr>\n",
       "      <th>52645775</th>\n",
       "      <td>1.000000</td>\n",
       "      <td>6</td>\n",
       "      <td>3.438832</td>\n",
       "      <td>-2.438832</td>\n",
       "    </tr>\n",
       "    <tr>\n",
       "      <th>46456025</th>\n",
       "      <td>1.000000</td>\n",
       "      <td>5</td>\n",
       "      <td>3.433508</td>\n",
       "      <td>-2.433508</td>\n",
       "    </tr>\n",
       "    <tr>\n",
       "      <th>45233519</th>\n",
       "      <td>1.200000</td>\n",
       "      <td>5</td>\n",
       "      <td>3.621627</td>\n",
       "      <td>-2.421627</td>\n",
       "    </tr>\n",
       "    <tr>\n",
       "      <th>28724103</th>\n",
       "      <td>1.800000</td>\n",
       "      <td>5</td>\n",
       "      <td>4.207561</td>\n",
       "      <td>-2.407561</td>\n",
       "    </tr>\n",
       "    <tr>\n",
       "      <th>1513503</th>\n",
       "      <td>1.800000</td>\n",
       "      <td>5</td>\n",
       "      <td>4.185925</td>\n",
       "      <td>-2.385925</td>\n",
       "    </tr>\n",
       "    <tr>\n",
       "      <th>40496676</th>\n",
       "      <td>1.800000</td>\n",
       "      <td>5</td>\n",
       "      <td>4.113118</td>\n",
       "      <td>-2.313118</td>\n",
       "    </tr>\n",
       "  </tbody>\n",
       "</table>\n",
       "</div>"
      ],
      "text/plain": [
       "             Customer mean rating  Customer rating count  Mean product rating  \\\n",
       "customer_id                                                                     \n",
       "27833552                 1.000000                      6             4.118988   \n",
       "22254536                 1.000000                      5             3.798758   \n",
       "13417096                 1.428571                      7             4.137186   \n",
       "15209318                 1.200000                     10             3.884001   \n",
       "41811804                 1.800000                      5             4.379186   \n",
       "19907926                 1.600000                      5             4.173850   \n",
       "3062127                  1.800000                      5             4.333122   \n",
       "11536769                 1.800000                      5             4.325474   \n",
       "52183619                 1.384615                     13             3.829254   \n",
       "52645775                 1.000000                      6             3.438832   \n",
       "46456025                 1.000000                      5             3.433508   \n",
       "45233519                 1.200000                      5             3.621627   \n",
       "28724103                 1.800000                      5             4.207561   \n",
       "1513503                  1.800000                      5             4.185925   \n",
       "40496676                 1.800000                      5             4.113118   \n",
       "\n",
       "             Rating_delta  \n",
       "customer_id                \n",
       "27833552        -3.118988  \n",
       "22254536        -2.798758  \n",
       "13417096        -2.708614  \n",
       "15209318        -2.684001  \n",
       "41811804        -2.579186  \n",
       "19907926        -2.573850  \n",
       "3062127         -2.533122  \n",
       "11536769        -2.525474  \n",
       "52183619        -2.444639  \n",
       "52645775        -2.438832  \n",
       "46456025        -2.433508  \n",
       "45233519        -2.421627  \n",
       "28724103        -2.407561  \n",
       "1513503         -2.385925  \n",
       "40496676        -2.313118  "
      ]
     },
     "execution_count": 196,
     "metadata": {},
     "output_type": "execute_result"
    }
   ],
   "source": [
    "absolute_cus_identify[:15]"
   ]
  },
  {
   "cell_type": "code",
   "execution_count": 198,
   "metadata": {},
   "outputs": [
    {
     "data": {
      "text/html": [
       "<div>\n",
       "<style scoped>\n",
       "    .dataframe tbody tr th:only-of-type {\n",
       "        vertical-align: middle;\n",
       "    }\n",
       "\n",
       "    .dataframe tbody tr th {\n",
       "        vertical-align: top;\n",
       "    }\n",
       "\n",
       "    .dataframe thead th {\n",
       "        text-align: right;\n",
       "    }\n",
       "</style>\n",
       "<table border=\"1\" class=\"dataframe\">\n",
       "  <thead>\n",
       "    <tr style=\"text-align: right;\">\n",
       "      <th></th>\n",
       "      <th>Customer mean rating</th>\n",
       "      <th>Customer rating count</th>\n",
       "      <th>Mean product rating</th>\n",
       "      <th>Rating_delta</th>\n",
       "    </tr>\n",
       "    <tr>\n",
       "      <th>customer_id</th>\n",
       "      <th></th>\n",
       "      <th></th>\n",
       "      <th></th>\n",
       "      <th></th>\n",
       "    </tr>\n",
       "  </thead>\n",
       "  <tbody>\n",
       "    <tr>\n",
       "      <th>25408289</th>\n",
       "      <td>5.0</td>\n",
       "      <td>6</td>\n",
       "      <td>3.525067</td>\n",
       "      <td>1.474933</td>\n",
       "    </tr>\n",
       "    <tr>\n",
       "      <th>11263027</th>\n",
       "      <td>5.0</td>\n",
       "      <td>9</td>\n",
       "      <td>3.511719</td>\n",
       "      <td>1.488281</td>\n",
       "    </tr>\n",
       "    <tr>\n",
       "      <th>14000344</th>\n",
       "      <td>5.0</td>\n",
       "      <td>5</td>\n",
       "      <td>3.493987</td>\n",
       "      <td>1.506013</td>\n",
       "    </tr>\n",
       "    <tr>\n",
       "      <th>10079353</th>\n",
       "      <td>5.0</td>\n",
       "      <td>5</td>\n",
       "      <td>3.447045</td>\n",
       "      <td>1.552955</td>\n",
       "    </tr>\n",
       "    <tr>\n",
       "      <th>30432728</th>\n",
       "      <td>5.0</td>\n",
       "      <td>5</td>\n",
       "      <td>3.435631</td>\n",
       "      <td>1.564369</td>\n",
       "    </tr>\n",
       "    <tr>\n",
       "      <th>39480828</th>\n",
       "      <td>5.0</td>\n",
       "      <td>14</td>\n",
       "      <td>3.429515</td>\n",
       "      <td>1.570485</td>\n",
       "    </tr>\n",
       "    <tr>\n",
       "      <th>13605391</th>\n",
       "      <td>5.0</td>\n",
       "      <td>5</td>\n",
       "      <td>3.419573</td>\n",
       "      <td>1.580427</td>\n",
       "    </tr>\n",
       "    <tr>\n",
       "      <th>21615987</th>\n",
       "      <td>5.0</td>\n",
       "      <td>7</td>\n",
       "      <td>3.364159</td>\n",
       "      <td>1.635841</td>\n",
       "    </tr>\n",
       "    <tr>\n",
       "      <th>28965036</th>\n",
       "      <td>5.0</td>\n",
       "      <td>5</td>\n",
       "      <td>3.296989</td>\n",
       "      <td>1.703011</td>\n",
       "    </tr>\n",
       "    <tr>\n",
       "      <th>1112298</th>\n",
       "      <td>5.0</td>\n",
       "      <td>5</td>\n",
       "      <td>3.273093</td>\n",
       "      <td>1.726907</td>\n",
       "    </tr>\n",
       "    <tr>\n",
       "      <th>955293</th>\n",
       "      <td>5.0</td>\n",
       "      <td>10</td>\n",
       "      <td>3.208635</td>\n",
       "      <td>1.791365</td>\n",
       "    </tr>\n",
       "    <tr>\n",
       "      <th>40366383</th>\n",
       "      <td>5.0</td>\n",
       "      <td>7</td>\n",
       "      <td>3.201779</td>\n",
       "      <td>1.798221</td>\n",
       "    </tr>\n",
       "    <tr>\n",
       "      <th>52056667</th>\n",
       "      <td>5.0</td>\n",
       "      <td>6</td>\n",
       "      <td>3.181729</td>\n",
       "      <td>1.818271</td>\n",
       "    </tr>\n",
       "    <tr>\n",
       "      <th>30629111</th>\n",
       "      <td>5.0</td>\n",
       "      <td>5</td>\n",
       "      <td>3.134115</td>\n",
       "      <td>1.865885</td>\n",
       "    </tr>\n",
       "    <tr>\n",
       "      <th>539212</th>\n",
       "      <td>5.0</td>\n",
       "      <td>5</td>\n",
       "      <td>3.133333</td>\n",
       "      <td>1.866667</td>\n",
       "    </tr>\n",
       "  </tbody>\n",
       "</table>\n",
       "</div>"
      ],
      "text/plain": [
       "             Customer mean rating  Customer rating count  Mean product rating  \\\n",
       "customer_id                                                                     \n",
       "25408289                      5.0                      6             3.525067   \n",
       "11263027                      5.0                      9             3.511719   \n",
       "14000344                      5.0                      5             3.493987   \n",
       "10079353                      5.0                      5             3.447045   \n",
       "30432728                      5.0                      5             3.435631   \n",
       "39480828                      5.0                     14             3.429515   \n",
       "13605391                      5.0                      5             3.419573   \n",
       "21615987                      5.0                      7             3.364159   \n",
       "28965036                      5.0                      5             3.296989   \n",
       "1112298                       5.0                      5             3.273093   \n",
       "955293                        5.0                     10             3.208635   \n",
       "40366383                      5.0                      7             3.201779   \n",
       "52056667                      5.0                      6             3.181729   \n",
       "30629111                      5.0                      5             3.134115   \n",
       "539212                        5.0                      5             3.133333   \n",
       "\n",
       "             Rating_delta  \n",
       "customer_id                \n",
       "25408289         1.474933  \n",
       "11263027         1.488281  \n",
       "14000344         1.506013  \n",
       "10079353         1.552955  \n",
       "30432728         1.564369  \n",
       "39480828         1.570485  \n",
       "13605391         1.580427  \n",
       "21615987         1.635841  \n",
       "28965036         1.703011  \n",
       "1112298          1.726907  \n",
       "955293           1.791365  \n",
       "40366383         1.798221  \n",
       "52056667         1.818271  \n",
       "30629111         1.865885  \n",
       "539212           1.866667  "
      ]
     },
     "execution_count": 198,
     "metadata": {},
     "output_type": "execute_result"
    }
   ],
   "source": [
    "absolute_cus_identify[-15:]"
   ]
  },
  {
   "cell_type": "markdown",
   "metadata": {},
   "source": [
    "### Remove purchases made by the following customers identified as potential malicious or inflationary reviewers"
   ]
  },
  {
   "cell_type": "code",
   "execution_count": 346,
   "metadata": {},
   "outputs": [
    {
     "data": {
      "text/html": [
       "<div>\n",
       "<style scoped>\n",
       "    .dataframe tbody tr th:only-of-type {\n",
       "        vertical-align: middle;\n",
       "    }\n",
       "\n",
       "    .dataframe tbody tr th {\n",
       "        vertical-align: top;\n",
       "    }\n",
       "\n",
       "    .dataframe thead th {\n",
       "        text-align: right;\n",
       "    }\n",
       "</style>\n",
       "<table border=\"1\" class=\"dataframe\">\n",
       "  <thead>\n",
       "    <tr style=\"text-align: right;\">\n",
       "      <th></th>\n",
       "      <th>customer_id</th>\n",
       "      <th>Customer mean rating</th>\n",
       "      <th>Customer rating count</th>\n",
       "      <th>Mean product rating</th>\n",
       "      <th>Rating_delta</th>\n",
       "    </tr>\n",
       "  </thead>\n",
       "  <tbody>\n",
       "    <tr>\n",
       "      <th>0</th>\n",
       "      <td>27833552</td>\n",
       "      <td>1.000000</td>\n",
       "      <td>6</td>\n",
       "      <td>4.118988</td>\n",
       "      <td>-3.118988</td>\n",
       "    </tr>\n",
       "    <tr>\n",
       "      <th>1</th>\n",
       "      <td>22254536</td>\n",
       "      <td>1.000000</td>\n",
       "      <td>5</td>\n",
       "      <td>3.798758</td>\n",
       "      <td>-2.798758</td>\n",
       "    </tr>\n",
       "    <tr>\n",
       "      <th>2</th>\n",
       "      <td>13417096</td>\n",
       "      <td>1.428571</td>\n",
       "      <td>7</td>\n",
       "      <td>4.137186</td>\n",
       "      <td>-2.708614</td>\n",
       "    </tr>\n",
       "    <tr>\n",
       "      <th>3</th>\n",
       "      <td>15209318</td>\n",
       "      <td>1.200000</td>\n",
       "      <td>10</td>\n",
       "      <td>3.884001</td>\n",
       "      <td>-2.684001</td>\n",
       "    </tr>\n",
       "    <tr>\n",
       "      <th>4</th>\n",
       "      <td>41811804</td>\n",
       "      <td>1.800000</td>\n",
       "      <td>5</td>\n",
       "      <td>4.379186</td>\n",
       "      <td>-2.579186</td>\n",
       "    </tr>\n",
       "  </tbody>\n",
       "</table>\n",
       "</div>"
      ],
      "text/plain": [
       "   customer_id  Customer mean rating  Customer rating count  \\\n",
       "0     27833552              1.000000                      6   \n",
       "1     22254536              1.000000                      5   \n",
       "2     13417096              1.428571                      7   \n",
       "3     15209318              1.200000                     10   \n",
       "4     41811804              1.800000                      5   \n",
       "\n",
       "   Mean product rating  Rating_delta  \n",
       "0             4.118988     -3.118988  \n",
       "1             3.798758     -2.798758  \n",
       "2             4.137186     -2.708614  \n",
       "3             3.884001     -2.684001  \n",
       "4             4.379186     -2.579186  "
      ]
     },
     "execution_count": 346,
     "metadata": {},
     "output_type": "execute_result"
    }
   ],
   "source": [
    "absolute_cus_identify_rst = absolute_cus_identify.reset_index()\n",
    "absolute_cus_identify_rst.head()"
   ]
  },
  {
   "cell_type": "code",
   "execution_count": 349,
   "metadata": {},
   "outputs": [],
   "source": [
    "#List of customers\n",
    "def customer_ids(df):\n",
    "    l = list()\n",
    "    for row in df.iterrows():\n",
    "        row_ = row[1]['Rating_delta']\n",
    "        if ((row_ >= 1.2) or (row_ <= -1.7)):\n",
    "            l.append(row[1]['customer_id'])\n",
    "    return l\n",
    "    \n",
    "list_customers_to_remove = customer_ids(absolute_cus_identify_rst)"
   ]
  },
  {
   "cell_type": "code",
   "execution_count": null,
   "metadata": {},
   "outputs": [],
   "source": [
    "\n",
    "if ((delta >= 1.2) or (delta <= -1.7)):\n",
    "    flag = True\n",
    "    \n",
    "    \n",
    "    (delta >= 1.2) or (delta <= -1.7)\n",
    "    "
   ]
  },
  {
   "cell_type": "code",
   "execution_count": 352,
   "metadata": {},
   "outputs": [
    {
     "data": {
      "text/plain": [
       "120"
      ]
     },
     "execution_count": 352,
     "metadata": {},
     "output_type": "execute_result"
    }
   ],
   "source": [
    "#Number of customers\n",
    "len(list_customers_to_remove)"
   ]
  },
  {
   "cell_type": "markdown",
   "metadata": {},
   "source": [
    "## Remove from main DataFrame"
   ]
  },
  {
   "cell_type": "code",
   "execution_count": 354,
   "metadata": {},
   "outputs": [],
   "source": [
    "e_data_processed = e_data[~e_data.customer_id.isin(list_customers_to_remove)]\n",
    "e_data_processed.to_csv('electronics_raw_data', inde=False)"
   ]
  }
 ],
 "metadata": {
  "kernelspec": {
   "display_name": "Python 3",
   "language": "python",
   "name": "python3"
  },
  "language_info": {
   "codemirror_mode": {
    "name": "ipython",
    "version": 3
   },
   "file_extension": ".py",
   "mimetype": "text/x-python",
   "name": "python",
   "nbconvert_exporter": "python",
   "pygments_lexer": "ipython3",
   "version": "3.6.4"
  }
 },
 "nbformat": 4,
 "nbformat_minor": 2
}
