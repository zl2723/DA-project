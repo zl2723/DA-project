{
 "cells": [
  {
   "cell_type": "code",
   "execution_count": 52,
   "metadata": {},
   "outputs": [
    {
     "ename": "NameError",
     "evalue": "name 'photo' is not defined",
     "output_type": "error",
     "traceback": [
      "\u001b[0;31m---------------------------------------------------------------------------\u001b[0m",
      "\u001b[0;31mNameError\u001b[0m                                 Traceback (most recent call last)",
      "\u001b[0;32m<ipython-input-52-bd44d4971e67>\u001b[0m in \u001b[0;36m<module>\u001b[0;34m()\u001b[0m\n\u001b[1;32m     62\u001b[0m         \u001b[0mmainloop\u001b[0m\u001b[0;34m(\u001b[0m\u001b[0;34m)\u001b[0m\u001b[0;34m\u001b[0m\u001b[0m\n\u001b[1;32m     63\u001b[0m \u001b[0;34m\u001b[0m\u001b[0m\n\u001b[0;32m---> 64\u001b[0;31m \u001b[0mgui\u001b[0m \u001b[0;34m=\u001b[0m \u001b[0mProjectGUI\u001b[0m\u001b[0;34m(\u001b[0m\u001b[0;34m)\u001b[0m\u001b[0;34m\u001b[0m\u001b[0m\n\u001b[0m",
      "\u001b[0;32m<ipython-input-52-bd44d4971e67>\u001b[0m in \u001b[0;36m__init__\u001b[0;34m(self)\u001b[0m\n\u001b[1;32m     19\u001b[0m         \u001b[0mimg\u001b[0m \u001b[0;34m=\u001b[0m \u001b[0mImage\u001b[0m\u001b[0;34m.\u001b[0m\u001b[0mopen\u001b[0m\u001b[0;34m(\u001b[0m\u001b[0;34m\"amazon.png\"\u001b[0m\u001b[0;34m)\u001b[0m\u001b[0;34m\u001b[0m\u001b[0m\n\u001b[1;32m     20\u001b[0m         \u001b[0mself\u001b[0m\u001b[0;34m.\u001b[0m\u001b[0mphoto\u001b[0m \u001b[0;34m=\u001b[0m \u001b[0mImageTk\u001b[0m\u001b[0;34m.\u001b[0m\u001b[0mPhotoImage\u001b[0m\u001b[0;34m(\u001b[0m\u001b[0mimg\u001b[0m\u001b[0;34m)\u001b[0m\u001b[0;34m\u001b[0m\u001b[0m\n\u001b[0;32m---> 21\u001b[0;31m         \u001b[0mself\u001b[0m\u001b[0;34m.\u001b[0m\u001b[0mphoto_label\u001b[0m \u001b[0;34m=\u001b[0m \u001b[0mLabel\u001b[0m\u001b[0;34m(\u001b[0m\u001b[0mself\u001b[0m\u001b[0;34m.\u001b[0m\u001b[0mmain\u001b[0m\u001b[0;34m,\u001b[0m \u001b[0mimage\u001b[0m\u001b[0;34m=\u001b[0m\u001b[0mphoto\u001b[0m\u001b[0;34m)\u001b[0m\u001b[0;34m\u001b[0m\u001b[0m\n\u001b[0m\u001b[1;32m     22\u001b[0m         \u001b[0mself\u001b[0m\u001b[0;34m.\u001b[0m\u001b[0mphoto_label\u001b[0m\u001b[0;34m.\u001b[0m\u001b[0mimage\u001b[0m \u001b[0;34m=\u001b[0m \u001b[0mphoto\u001b[0m\u001b[0;34m\u001b[0m\u001b[0m\n\u001b[1;32m     23\u001b[0m         \u001b[0mself\u001b[0m\u001b[0;34m.\u001b[0m\u001b[0mphoto_label\u001b[0m\u001b[0;34m.\u001b[0m\u001b[0mgrid\u001b[0m\u001b[0;34m(\u001b[0m\u001b[0mrow\u001b[0m\u001b[0;34m=\u001b[0m\u001b[0;36m2\u001b[0m\u001b[0;34m,\u001b[0m \u001b[0mcolumn\u001b[0m\u001b[0;34m=\u001b[0m\u001b[0;36m0\u001b[0m\u001b[0;34m)\u001b[0m\u001b[0;34m\u001b[0m\u001b[0m\n",
      "\u001b[0;31mNameError\u001b[0m: name 'photo' is not defined"
     ]
    }
   ],
   "source": [
    "from tkinter import *\n",
    "from PIL import ImageTk, Image\n",
    "\n",
    "class ProjectGUI:\n",
    "    \n",
    "    def __init__(self):\n",
    "        self.main = Tk()\n",
    "        self.main.title('Amazon Bestseller Search')\n",
    "        self.main.geometry('850x600')\n",
    "#         self.main.configure(bg='grey')\n",
    "#         self.font = \"Times 16 bold\"\n",
    "#         self.title_label = Label(self.main, text=\"The Bestseller\", font = \"Times 30 bold\").pack(side=\"top\")\n",
    "#         canvas_width = 600\n",
    "#         canvas_height =100\n",
    "\n",
    "#         self.canvas = Canvas(self.main, width=canvas_width, height=canvas_height)\n",
    "#         self.canvas.pack()\n",
    "\n",
    "        img = Image.open(\"amazon.png\")\n",
    "        photo = ImageTk.PhotoImage(img)\n",
    "        self.photo_label = Label(self.main, image=photo)\n",
    "        self.photo_label.image = photo\n",
    "        self.photo_label.grid(row=2, column=0)\n",
    "        \n",
    "#         self.canvas.create_image(20,20,anchor=NW,image=photo)\n",
    "    \n",
    "        self.productBox = Frame(self.main)\n",
    "        self.productBox.pack(fill=X)\n",
    "        self.keywordBox = Frame(self.main,bg='grey')\n",
    "        self.keywordBox.pack(fill=X)\n",
    "        self.keyBox = Frame(self.main)\n",
    "        self.keyBox.pack(fill=X)\n",
    "    \n",
    "        self.productBox.pack(side='top')\n",
    "        self.keywordBox.pack(pady=70,side='top')\n",
    "        self.keyBox.pack(pady=60,side='top')\n",
    "        \n",
    "        self.pEntry = Entry(self.productBox,width=50)\n",
    "        self.pEntry.pack(side='left')\n",
    "        self.p = Button(self.productBox, text='product search', font=self.font, bg='#5c9ead', fg='#EFBC9B')\n",
    "        self.p.pack(side='left')\n",
    "        self.productBox.pack(padx=80, side='top')\n",
    "        \n",
    "#         self.text = Label(self.keywordBox,text='keyword search', font=self.font, bg='blue', fg='black')\n",
    "        self.text1 = Checkbutton(self.keywordBox, text=\"noise\")\n",
    "    #.grid(row=1, column=50, sticky=W)\n",
    "        self.text1.pack(padx=40,pady=10,side='top')\n",
    "        self.text2 = Checkbutton(self.keywordBox, text=\"quality\")\n",
    "        #.grid(row=3, column=50, sticky=W)\n",
    "        self.text2.pack(padx=40,pady=10,side='top')\n",
    "        self.text3 = Checkbutton(self.keywordBox, text=\"price\")\n",
    "        self.text3.pack(padx=40,pady=10,side='top')\n",
    "        #.grid(row=5, column=50, sticky=W)\n",
    "#         self.text.pack(fill=X,padx=10,pady=10)\n",
    "        \n",
    "        self.kEntry = Entry(self.keyBox,width=50)\n",
    "        self.kEntry.pack(side='left')\n",
    "        self.k = Button(self.keyBox,text='keyword search', font=self.font, bg='#5c9ead', fg='#EFBC9B')\n",
    "        self.k.pack(side='left')\n",
    "        self.keyBox.pack(padx=80, side='left')\n",
    "\n",
    "        mainloop()\n",
    "    \n",
    "gui = ProjectGUI()"
   ]
  },
  {
   "cell_type": "code",
   "execution_count": null,
   "metadata": {},
   "outputs": [],
   "source": []
  },
  {
   "cell_type": "code",
   "execution_count": null,
   "metadata": {},
   "outputs": [],
   "source": []
  }
 ],
 "metadata": {
  "kernelspec": {
   "display_name": "Python 3",
   "language": "python",
   "name": "python3"
  },
  "language_info": {
   "codemirror_mode": {
    "name": "ipython",
    "version": 3
   },
   "file_extension": ".py",
   "mimetype": "text/x-python",
   "name": "python",
   "nbconvert_exporter": "python",
   "pygments_lexer": "ipython3",
   "version": "3.6.5"
  }
 },
 "nbformat": 4,
 "nbformat_minor": 2
}
