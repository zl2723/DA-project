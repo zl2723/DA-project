{
 "cells": [
  {
   "cell_type": "markdown",
   "metadata": {},
   "source": [
    "NRC sentiment analysis for Amazon laptop lexicons based on customer reviews"
   ]
  },
  {
   "cell_type": "code",
   "execution_count": 40,
   "metadata": {},
   "outputs": [],
   "source": [
    "def get_nrc_data():\n",
    "    nrc_bigram = \"Amazon-laptops-electronics-reviews-AFFLEX-NEGLEX-bigrams.txt\"\n",
    "    nrc_unigram = \"Amazon-laptops-electronics-reviews-AFFLEX-NEGLEX-unigrams.txt\"\n",
    "    nrc_emotion = \"NRC-emotion-lexicon-wordlevel-alphabetized-v0.92.txt\"\n",
    "  \n",
    "    unigram_dict=dict()\n",
    "    bigram_dict=dict()\n",
    "    emotion_dict=dict()\n",
    "    \n",
    "    with open(nrc_bigram, 'r', encoding='utf-8') as b:\n",
    "        for line in b:\n",
    "            line = line.strip().split('\\t')\n",
    "            bigram_dict[line[0]] = line[1]\n",
    "                    \n",
    "    with open(nrc_unigram, 'r', encoding='utf-8') as u:\n",
    "        for line in u:\n",
    "            line = line.strip().split('\\t')\n",
    "            unigram_dict[line[0]] = line[1]\n",
    "    \n",
    "    with open(nrc_emotion, 'r', encoding='utf-8') as f:\n",
    "        count=0\n",
    "        for line in f:\n",
    "            if count < 46:\n",
    "                count+=1\n",
    "                continue\n",
    "            line = line.strip().split('\\t')\n",
    "            if int(line[2]) == 1:\n",
    "                if emotion_dict.get(line[0]):\n",
    "                    emotion_dict[line[0]].append(line[1])\n",
    "                else:\n",
    "                    emotion_dict[line[0]] = [line[1]]\n",
    "    \n",
    "    return unigram_dict,bigram_dict, emotion_dict"
   ]
  },
  {
   "cell_type": "code",
   "execution_count": 41,
   "metadata": {},
   "outputs": [],
   "source": [
    "unigram_dict, bigram_dict, emotion_dict = get_nrc_data()"
   ]
  },
  {
   "cell_type": "code",
   "execution_count": 42,
   "metadata": {},
   "outputs": [],
   "source": [
    "def pos_neg_analyzer(text, unigram_dict=unigram_dict, bigram_dict=bigram_dict):\n",
    "    total_words = (len(text.split())*2)-1\n",
    "    paragraph = text.split()\n",
    "    pos_count = 0\n",
    "    neg_count = 0\n",
    "    for x in range(len(paragraph)):\n",
    "        unigram = paragraph[x]\n",
    "        bigram = ' '.join([paragraph[x],paragraph[x+1]])\n",
    "        if unigram in unigram_dict.keys():\n",
    "            score += float(unigram_dict[unigram])\n",
    "            if unigram_dict[unigram] > 0:\n",
    "                pos_count += 1\n",
    "            elif unigram_dict[unigram] < 0:\n",
    "                neg_count += 1\n",
    "        if bigram in bigram_dict.keys():\n",
    "            score += float(bigram_dict[bigram])\n",
    "            if bigram_dict[bigram] > 0:\n",
    "                pos_count += 1\n",
    "            elif bigram_dict[bigram] < 0:\n",
    "                neg_count += 1\n",
    "    \n",
    "    pos_perc = pos_count/total_words\n",
    "    neg_perc = neg_count/total_words\n",
    "    return score, pos_perc, neg_perc        "
   ]
  },
  {
   "cell_type": "code",
   "execution_count": null,
   "metadata": {},
   "outputs": [],
   "source": [
    "def get_complexity(text):\n",
    "    \n",
    "    from nltk.tokenize import word_tokenize\n",
    "    \n",
    "    num_chars=len(text)\n",
    "    num_words=len(word_tokenize(text))\n",
    "    num_sentences=len(sent_tokenize(text))\n",
    "    vocab = {x.lower() for x in word_tokenize(text)}\n",
    "    \n",
    "    char_per_word = float(num_chars/num_words)\n",
    "    word_per_sent = float(num_words/num_sentences)\n",
    "    unique_word_perc = len(vocab)/num_words\n",
    "    \n",
    "    return num_words, char_per_word, word_per_sent, unique_word_perc"
   ]
  },
  {
   "cell_type": "code",
   "execution_count": 43,
   "metadata": {},
   "outputs": [],
   "source": [
    "def emotion_analyzer(text,emotion_dict):\n",
    "#   text = customer review\n",
    "#   emotion_dict = get_nrc_data\n",
    "    #Set up the result dictionary\n",
    "    emotions = {x for y in emotion_dict.values() for x in y}\n",
    "    emotion_count = dict()\n",
    "    for emotion in emotions:\n",
    "        emotion_count[emotion] = 0\n",
    "\n",
    "    #Analyze the text and normalize by total number of words\n",
    "    total_words = len(text.split())\n",
    "    for word in text.split():\n",
    "        if emotion_dict.get(word):\n",
    "            for emotion in emotion_dict.get(word):\n",
    "                emotion_count[emotion] += 1/len(text.split())\n",
    "    return emotion_count"
   ]
  },
  {
   "cell_type": "code",
   "execution_count": null,
   "metadata": {},
   "outputs": [],
   "source": [
    "def emotion_df"
   ]
  },
  {
   "cell_type": "code",
   "execution_count": null,
   "metadata": {},
   "outputs": [],
   "source": [
    "#output list with name, brand, price, link and image\n",
    "def output(ID):\n",
    "    "
   ]
  }
 ],
 "metadata": {
  "kernelspec": {
   "display_name": "Python 3",
   "language": "python",
   "name": "python3"
  },
  "language_info": {
   "codemirror_mode": {
    "name": "ipython",
    "version": 3
   },
   "file_extension": ".py",
   "mimetype": "text/x-python",
   "name": "python",
   "nbconvert_exporter": "python",
   "pygments_lexer": "ipython3",
   "version": "3.6.5"
  }
 },
 "nbformat": 4,
 "nbformat_minor": 2
}
