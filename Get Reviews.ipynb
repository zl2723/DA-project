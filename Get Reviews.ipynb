{
 "cells": [
  {
   "cell_type": "code",
   "execution_count": 1,
   "metadata": {},
   "outputs": [],
   "source": [
    "#get all reviews for products with product id as p_id\n",
    "def get_reviews(df, p_id):\n",
    "    import json\n",
    "    import requests\n",
    "    df_review = df['product_id', 'review_body']\n",
    "    review_dict = dict()\n",
    "    for r in df_review:\n",
    "        if r['product_id'] == p_id:\n",
    "            review_dict[p_id].update(r['review_body'])\n",
    "    return review_dict"
   ]
  }
 ],
 "metadata": {
  "kernelspec": {
   "display_name": "Python 3",
   "language": "python",
   "name": "python3"
  },
  "language_info": {
   "codemirror_mode": {
    "name": "ipython",
    "version": 3
   },
   "file_extension": ".py",
   "mimetype": "text/x-python",
   "name": "python",
   "nbconvert_exporter": "python",
   "pygments_lexer": "ipython3",
   "version": "3.6.5"
  }
 },
 "nbformat": 4,
 "nbformat_minor": 2
}
