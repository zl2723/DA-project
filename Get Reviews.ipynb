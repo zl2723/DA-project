{
 "cells": [
  {
   "cell_type": "code",
   "execution_count": null,
   "metadata": {},
   "outputs": [],
   "source": [
    "#get all reviews for products with product id as p_id\n",
    "def get_reviews(df, p_id):\n",
    "    import json\n",
    "    import requests\n",
    "    df_review = df['product_id', 'review_body']\n",
    "    review_dict = dict()\n",
    "    for r in df_review:\n",
    "        if r['product_id'] == p_id:\n",
    "            review_dict[p_id].update(r['review_body'])\n",
    "    return review_dict"
   ]
  },
  {
   "cell_type": "code",
   "execution_count": null,
   "metadata": {},
   "outputs": [],
   "source": [
    "#get the review body \n",
    "def get_review_body():\n",
    "    df_review_body = df_id['product_id']\n",
    "    for x in df_id['product_id']:\n",
    "        for y in url_data['product_id'] and y == x:\n",
    "            "
   ]
  }
 ],
 "metadata": {
  "kernelspec": {
   "display_name": "Python 3",
   "language": "python",
   "name": "python3"
  },
  "language_info": {
   "codemirror_mode": {
    "name": "ipython",
    "version": 3
   },
   "file_extension": ".py",
   "mimetype": "text/x-python",
   "name": "python",
   "nbconvert_exporter": "python",
   "pygments_lexer": "ipython3",
   "version": "3.6.5"
  }
 },
 "nbformat": 4,
 "nbformat_minor": 2
}
